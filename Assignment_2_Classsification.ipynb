{
  "nbformat": 4,
  "nbformat_minor": 0,
  "metadata": {
    "colab": {
      "provenance": [],
      "authorship_tag": "ABX9TyMwDHK3fefFtEm/RfBa7fa9",
      "include_colab_link": true
    },
    "kernelspec": {
      "name": "python3",
      "display_name": "Python 3"
    },
    "language_info": {
      "name": "python"
    }
  },
  "cells": [
    {
      "cell_type": "markdown",
      "metadata": {
        "id": "view-in-github",
        "colab_type": "text"
      },
      "source": [
        "<a href=\"https://colab.research.google.com/github/Vasudev-SN/MPEA_dataset/blob/master/Assignment_2_Classsification.ipynb\" target=\"_parent\"><img src=\"https://colab.research.google.com/assets/colab-badge.svg\" alt=\"Open In Colab\"/></a>"
      ]
    },
    {
      "cell_type": "code",
      "execution_count": 4,
      "metadata": {
        "id": "CYwAxgpCgDcx"
      },
      "outputs": [],
      "source": [
        "import numpy as np\n",
        "import pandas as pd"
      ]
    },
    {
      "cell_type": "code",
      "source": [
        "df=pd.read_csv('accelerometer (1).csv')"
      ],
      "metadata": {
        "id": "PepL_RbWgN6m"
      },
      "execution_count": 5,
      "outputs": []
    },
    {
      "cell_type": "code",
      "source": [
        "df.head()"
      ],
      "metadata": {
        "colab": {
          "base_uri": "https://localhost:8080/",
          "height": 206
        },
        "id": "_mV7r5iMhGAU",
        "outputId": "984c1270-e660-4663-8b4b-4ac0b95625e3"
      },
      "execution_count": 6,
      "outputs": [
        {
          "output_type": "execute_result",
          "data": {
            "text/plain": [
              "   wconfid  pctid      x      y      z\n",
              "0        1     20  1.004  0.090 -0.125\n",
              "1        1     20  1.004 -0.043 -0.125\n",
              "2        1     20  0.969  0.090 -0.121\n",
              "3        1     20  0.973 -0.012 -0.137\n",
              "4        1     20  1.000 -0.016 -0.121"
            ],
            "text/html": [
              "\n",
              "  <div id=\"df-75c8c1bd-0921-483c-a566-d33c8b92e18f\">\n",
              "    <div class=\"colab-df-container\">\n",
              "      <div>\n",
              "<style scoped>\n",
              "    .dataframe tbody tr th:only-of-type {\n",
              "        vertical-align: middle;\n",
              "    }\n",
              "\n",
              "    .dataframe tbody tr th {\n",
              "        vertical-align: top;\n",
              "    }\n",
              "\n",
              "    .dataframe thead th {\n",
              "        text-align: right;\n",
              "    }\n",
              "</style>\n",
              "<table border=\"1\" class=\"dataframe\">\n",
              "  <thead>\n",
              "    <tr style=\"text-align: right;\">\n",
              "      <th></th>\n",
              "      <th>wconfid</th>\n",
              "      <th>pctid</th>\n",
              "      <th>x</th>\n",
              "      <th>y</th>\n",
              "      <th>z</th>\n",
              "    </tr>\n",
              "  </thead>\n",
              "  <tbody>\n",
              "    <tr>\n",
              "      <th>0</th>\n",
              "      <td>1</td>\n",
              "      <td>20</td>\n",
              "      <td>1.004</td>\n",
              "      <td>0.090</td>\n",
              "      <td>-0.125</td>\n",
              "    </tr>\n",
              "    <tr>\n",
              "      <th>1</th>\n",
              "      <td>1</td>\n",
              "      <td>20</td>\n",
              "      <td>1.004</td>\n",
              "      <td>-0.043</td>\n",
              "      <td>-0.125</td>\n",
              "    </tr>\n",
              "    <tr>\n",
              "      <th>2</th>\n",
              "      <td>1</td>\n",
              "      <td>20</td>\n",
              "      <td>0.969</td>\n",
              "      <td>0.090</td>\n",
              "      <td>-0.121</td>\n",
              "    </tr>\n",
              "    <tr>\n",
              "      <th>3</th>\n",
              "      <td>1</td>\n",
              "      <td>20</td>\n",
              "      <td>0.973</td>\n",
              "      <td>-0.012</td>\n",
              "      <td>-0.137</td>\n",
              "    </tr>\n",
              "    <tr>\n",
              "      <th>4</th>\n",
              "      <td>1</td>\n",
              "      <td>20</td>\n",
              "      <td>1.000</td>\n",
              "      <td>-0.016</td>\n",
              "      <td>-0.121</td>\n",
              "    </tr>\n",
              "  </tbody>\n",
              "</table>\n",
              "</div>\n",
              "      <button class=\"colab-df-convert\" onclick=\"convertToInteractive('df-75c8c1bd-0921-483c-a566-d33c8b92e18f')\"\n",
              "              title=\"Convert this dataframe to an interactive table.\"\n",
              "              style=\"display:none;\">\n",
              "        \n",
              "  <svg xmlns=\"http://www.w3.org/2000/svg\" height=\"24px\"viewBox=\"0 0 24 24\"\n",
              "       width=\"24px\">\n",
              "    <path d=\"M0 0h24v24H0V0z\" fill=\"none\"/>\n",
              "    <path d=\"M18.56 5.44l.94 2.06.94-2.06 2.06-.94-2.06-.94-.94-2.06-.94 2.06-2.06.94zm-11 1L8.5 8.5l.94-2.06 2.06-.94-2.06-.94L8.5 2.5l-.94 2.06-2.06.94zm10 10l.94 2.06.94-2.06 2.06-.94-2.06-.94-.94-2.06-.94 2.06-2.06.94z\"/><path d=\"M17.41 7.96l-1.37-1.37c-.4-.4-.92-.59-1.43-.59-.52 0-1.04.2-1.43.59L10.3 9.45l-7.72 7.72c-.78.78-.78 2.05 0 2.83L4 21.41c.39.39.9.59 1.41.59.51 0 1.02-.2 1.41-.59l7.78-7.78 2.81-2.81c.8-.78.8-2.07 0-2.86zM5.41 20L4 18.59l7.72-7.72 1.47 1.35L5.41 20z\"/>\n",
              "  </svg>\n",
              "      </button>\n",
              "      \n",
              "  <style>\n",
              "    .colab-df-container {\n",
              "      display:flex;\n",
              "      flex-wrap:wrap;\n",
              "      gap: 12px;\n",
              "    }\n",
              "\n",
              "    .colab-df-convert {\n",
              "      background-color: #E8F0FE;\n",
              "      border: none;\n",
              "      border-radius: 50%;\n",
              "      cursor: pointer;\n",
              "      display: none;\n",
              "      fill: #1967D2;\n",
              "      height: 32px;\n",
              "      padding: 0 0 0 0;\n",
              "      width: 32px;\n",
              "    }\n",
              "\n",
              "    .colab-df-convert:hover {\n",
              "      background-color: #E2EBFA;\n",
              "      box-shadow: 0px 1px 2px rgba(60, 64, 67, 0.3), 0px 1px 3px 1px rgba(60, 64, 67, 0.15);\n",
              "      fill: #174EA6;\n",
              "    }\n",
              "\n",
              "    [theme=dark] .colab-df-convert {\n",
              "      background-color: #3B4455;\n",
              "      fill: #D2E3FC;\n",
              "    }\n",
              "\n",
              "    [theme=dark] .colab-df-convert:hover {\n",
              "      background-color: #434B5C;\n",
              "      box-shadow: 0px 1px 3px 1px rgba(0, 0, 0, 0.15);\n",
              "      filter: drop-shadow(0px 1px 2px rgba(0, 0, 0, 0.3));\n",
              "      fill: #FFFFFF;\n",
              "    }\n",
              "  </style>\n",
              "\n",
              "      <script>\n",
              "        const buttonEl =\n",
              "          document.querySelector('#df-75c8c1bd-0921-483c-a566-d33c8b92e18f button.colab-df-convert');\n",
              "        buttonEl.style.display =\n",
              "          google.colab.kernel.accessAllowed ? 'block' : 'none';\n",
              "\n",
              "        async function convertToInteractive(key) {\n",
              "          const element = document.querySelector('#df-75c8c1bd-0921-483c-a566-d33c8b92e18f');\n",
              "          const dataTable =\n",
              "            await google.colab.kernel.invokeFunction('convertToInteractive',\n",
              "                                                     [key], {});\n",
              "          if (!dataTable) return;\n",
              "\n",
              "          const docLinkHtml = 'Like what you see? Visit the ' +\n",
              "            '<a target=\"_blank\" href=https://colab.research.google.com/notebooks/data_table.ipynb>data table notebook</a>'\n",
              "            + ' to learn more about interactive tables.';\n",
              "          element.innerHTML = '';\n",
              "          dataTable['output_type'] = 'display_data';\n",
              "          await google.colab.output.renderOutput(dataTable, element);\n",
              "          const docLink = document.createElement('div');\n",
              "          docLink.innerHTML = docLinkHtml;\n",
              "          element.appendChild(docLink);\n",
              "        }\n",
              "      </script>\n",
              "    </div>\n",
              "  </div>\n",
              "  "
            ]
          },
          "metadata": {},
          "execution_count": 6
        }
      ]
    },
    {
      "cell_type": "code",
      "source": [
        "df.describe()"
      ],
      "metadata": {
        "colab": {
          "base_uri": "https://localhost:8080/",
          "height": 344
        },
        "id": "qvUUam0hkaqt",
        "outputId": "33abb8df-2423-4d7b-f1fd-3d469f012442"
      },
      "execution_count": 15,
      "outputs": [
        {
          "output_type": "execute_result",
          "data": {
            "text/plain": [
              "             wconfid          pctid              x              y  \\\n",
              "count  153000.000000  153000.000000  153000.000000  153000.000000   \n",
              "mean        2.000000      60.000000       0.995622       0.005351   \n",
              "std         0.816499      24.494977       0.773958       0.742602   \n",
              "min         1.000000      20.000000      -8.000000      -8.000000   \n",
              "25%         1.000000      40.000000       0.945000      -0.078000   \n",
              "50%         2.000000      60.000000       0.992000       0.008000   \n",
              "75%         3.000000      80.000000       1.039000       0.105000   \n",
              "max         3.000000     100.000000       7.996000       7.996000   \n",
              "\n",
              "                   z  \n",
              "count  153000.000000  \n",
              "mean       -0.117769  \n",
              "std         0.517008  \n",
              "min        -5.867000  \n",
              "25%        -0.172000  \n",
              "50%        -0.125000  \n",
              "75%        -0.066000  \n",
              "max         6.086000  "
            ],
            "text/html": [
              "\n",
              "  <div id=\"df-5828bdbd-e69d-410d-84ff-12877180cbb2\">\n",
              "    <div class=\"colab-df-container\">\n",
              "      <div>\n",
              "<style scoped>\n",
              "    .dataframe tbody tr th:only-of-type {\n",
              "        vertical-align: middle;\n",
              "    }\n",
              "\n",
              "    .dataframe tbody tr th {\n",
              "        vertical-align: top;\n",
              "    }\n",
              "\n",
              "    .dataframe thead th {\n",
              "        text-align: right;\n",
              "    }\n",
              "</style>\n",
              "<table border=\"1\" class=\"dataframe\">\n",
              "  <thead>\n",
              "    <tr style=\"text-align: right;\">\n",
              "      <th></th>\n",
              "      <th>wconfid</th>\n",
              "      <th>pctid</th>\n",
              "      <th>x</th>\n",
              "      <th>y</th>\n",
              "      <th>z</th>\n",
              "    </tr>\n",
              "  </thead>\n",
              "  <tbody>\n",
              "    <tr>\n",
              "      <th>count</th>\n",
              "      <td>153000.000000</td>\n",
              "      <td>153000.000000</td>\n",
              "      <td>153000.000000</td>\n",
              "      <td>153000.000000</td>\n",
              "      <td>153000.000000</td>\n",
              "    </tr>\n",
              "    <tr>\n",
              "      <th>mean</th>\n",
              "      <td>2.000000</td>\n",
              "      <td>60.000000</td>\n",
              "      <td>0.995622</td>\n",
              "      <td>0.005351</td>\n",
              "      <td>-0.117769</td>\n",
              "    </tr>\n",
              "    <tr>\n",
              "      <th>std</th>\n",
              "      <td>0.816499</td>\n",
              "      <td>24.494977</td>\n",
              "      <td>0.773958</td>\n",
              "      <td>0.742602</td>\n",
              "      <td>0.517008</td>\n",
              "    </tr>\n",
              "    <tr>\n",
              "      <th>min</th>\n",
              "      <td>1.000000</td>\n",
              "      <td>20.000000</td>\n",
              "      <td>-8.000000</td>\n",
              "      <td>-8.000000</td>\n",
              "      <td>-5.867000</td>\n",
              "    </tr>\n",
              "    <tr>\n",
              "      <th>25%</th>\n",
              "      <td>1.000000</td>\n",
              "      <td>40.000000</td>\n",
              "      <td>0.945000</td>\n",
              "      <td>-0.078000</td>\n",
              "      <td>-0.172000</td>\n",
              "    </tr>\n",
              "    <tr>\n",
              "      <th>50%</th>\n",
              "      <td>2.000000</td>\n",
              "      <td>60.000000</td>\n",
              "      <td>0.992000</td>\n",
              "      <td>0.008000</td>\n",
              "      <td>-0.125000</td>\n",
              "    </tr>\n",
              "    <tr>\n",
              "      <th>75%</th>\n",
              "      <td>3.000000</td>\n",
              "      <td>80.000000</td>\n",
              "      <td>1.039000</td>\n",
              "      <td>0.105000</td>\n",
              "      <td>-0.066000</td>\n",
              "    </tr>\n",
              "    <tr>\n",
              "      <th>max</th>\n",
              "      <td>3.000000</td>\n",
              "      <td>100.000000</td>\n",
              "      <td>7.996000</td>\n",
              "      <td>7.996000</td>\n",
              "      <td>6.086000</td>\n",
              "    </tr>\n",
              "  </tbody>\n",
              "</table>\n",
              "</div>\n",
              "      <button class=\"colab-df-convert\" onclick=\"convertToInteractive('df-5828bdbd-e69d-410d-84ff-12877180cbb2')\"\n",
              "              title=\"Convert this dataframe to an interactive table.\"\n",
              "              style=\"display:none;\">\n",
              "        \n",
              "  <svg xmlns=\"http://www.w3.org/2000/svg\" height=\"24px\"viewBox=\"0 0 24 24\"\n",
              "       width=\"24px\">\n",
              "    <path d=\"M0 0h24v24H0V0z\" fill=\"none\"/>\n",
              "    <path d=\"M18.56 5.44l.94 2.06.94-2.06 2.06-.94-2.06-.94-.94-2.06-.94 2.06-2.06.94zm-11 1L8.5 8.5l.94-2.06 2.06-.94-2.06-.94L8.5 2.5l-.94 2.06-2.06.94zm10 10l.94 2.06.94-2.06 2.06-.94-2.06-.94-.94-2.06-.94 2.06-2.06.94z\"/><path d=\"M17.41 7.96l-1.37-1.37c-.4-.4-.92-.59-1.43-.59-.52 0-1.04.2-1.43.59L10.3 9.45l-7.72 7.72c-.78.78-.78 2.05 0 2.83L4 21.41c.39.39.9.59 1.41.59.51 0 1.02-.2 1.41-.59l7.78-7.78 2.81-2.81c.8-.78.8-2.07 0-2.86zM5.41 20L4 18.59l7.72-7.72 1.47 1.35L5.41 20z\"/>\n",
              "  </svg>\n",
              "      </button>\n",
              "      \n",
              "  <style>\n",
              "    .colab-df-container {\n",
              "      display:flex;\n",
              "      flex-wrap:wrap;\n",
              "      gap: 12px;\n",
              "    }\n",
              "\n",
              "    .colab-df-convert {\n",
              "      background-color: #E8F0FE;\n",
              "      border: none;\n",
              "      border-radius: 50%;\n",
              "      cursor: pointer;\n",
              "      display: none;\n",
              "      fill: #1967D2;\n",
              "      height: 32px;\n",
              "      padding: 0 0 0 0;\n",
              "      width: 32px;\n",
              "    }\n",
              "\n",
              "    .colab-df-convert:hover {\n",
              "      background-color: #E2EBFA;\n",
              "      box-shadow: 0px 1px 2px rgba(60, 64, 67, 0.3), 0px 1px 3px 1px rgba(60, 64, 67, 0.15);\n",
              "      fill: #174EA6;\n",
              "    }\n",
              "\n",
              "    [theme=dark] .colab-df-convert {\n",
              "      background-color: #3B4455;\n",
              "      fill: #D2E3FC;\n",
              "    }\n",
              "\n",
              "    [theme=dark] .colab-df-convert:hover {\n",
              "      background-color: #434B5C;\n",
              "      box-shadow: 0px 1px 3px 1px rgba(0, 0, 0, 0.15);\n",
              "      filter: drop-shadow(0px 1px 2px rgba(0, 0, 0, 0.3));\n",
              "      fill: #FFFFFF;\n",
              "    }\n",
              "  </style>\n",
              "\n",
              "      <script>\n",
              "        const buttonEl =\n",
              "          document.querySelector('#df-5828bdbd-e69d-410d-84ff-12877180cbb2 button.colab-df-convert');\n",
              "        buttonEl.style.display =\n",
              "          google.colab.kernel.accessAllowed ? 'block' : 'none';\n",
              "\n",
              "        async function convertToInteractive(key) {\n",
              "          const element = document.querySelector('#df-5828bdbd-e69d-410d-84ff-12877180cbb2');\n",
              "          const dataTable =\n",
              "            await google.colab.kernel.invokeFunction('convertToInteractive',\n",
              "                                                     [key], {});\n",
              "          if (!dataTable) return;\n",
              "\n",
              "          const docLinkHtml = 'Like what you see? Visit the ' +\n",
              "            '<a target=\"_blank\" href=https://colab.research.google.com/notebooks/data_table.ipynb>data table notebook</a>'\n",
              "            + ' to learn more about interactive tables.';\n",
              "          element.innerHTML = '';\n",
              "          dataTable['output_type'] = 'display_data';\n",
              "          await google.colab.output.renderOutput(dataTable, element);\n",
              "          const docLink = document.createElement('div');\n",
              "          docLink.innerHTML = docLinkHtml;\n",
              "          element.appendChild(docLink);\n",
              "        }\n",
              "      </script>\n",
              "    </div>\n",
              "  </div>\n",
              "  "
            ]
          },
          "metadata": {},
          "execution_count": 15
        }
      ]
    },
    {
      "cell_type": "code",
      "source": [
        "df.isna()"
      ],
      "metadata": {
        "colab": {
          "base_uri": "https://localhost:8080/",
          "height": 423
        },
        "id": "RTbMxGFUkaaR",
        "outputId": "f70619dc-b35c-4b8a-80a1-cdc43603f095"
      },
      "execution_count": 16,
      "outputs": [
        {
          "output_type": "execute_result",
          "data": {
            "text/plain": [
              "        wconfid  pctid      x      y      z\n",
              "0         False  False  False  False  False\n",
              "1         False  False  False  False  False\n",
              "2         False  False  False  False  False\n",
              "3         False  False  False  False  False\n",
              "4         False  False  False  False  False\n",
              "...         ...    ...    ...    ...    ...\n",
              "152995    False  False  False  False  False\n",
              "152996    False  False  False  False  False\n",
              "152997    False  False  False  False  False\n",
              "152998    False  False  False  False  False\n",
              "152999    False  False  False  False  False\n",
              "\n",
              "[153000 rows x 5 columns]"
            ],
            "text/html": [
              "\n",
              "  <div id=\"df-2b8d196e-f9f0-4bb2-b15f-81b838e6788b\">\n",
              "    <div class=\"colab-df-container\">\n",
              "      <div>\n",
              "<style scoped>\n",
              "    .dataframe tbody tr th:only-of-type {\n",
              "        vertical-align: middle;\n",
              "    }\n",
              "\n",
              "    .dataframe tbody tr th {\n",
              "        vertical-align: top;\n",
              "    }\n",
              "\n",
              "    .dataframe thead th {\n",
              "        text-align: right;\n",
              "    }\n",
              "</style>\n",
              "<table border=\"1\" class=\"dataframe\">\n",
              "  <thead>\n",
              "    <tr style=\"text-align: right;\">\n",
              "      <th></th>\n",
              "      <th>wconfid</th>\n",
              "      <th>pctid</th>\n",
              "      <th>x</th>\n",
              "      <th>y</th>\n",
              "      <th>z</th>\n",
              "    </tr>\n",
              "  </thead>\n",
              "  <tbody>\n",
              "    <tr>\n",
              "      <th>0</th>\n",
              "      <td>False</td>\n",
              "      <td>False</td>\n",
              "      <td>False</td>\n",
              "      <td>False</td>\n",
              "      <td>False</td>\n",
              "    </tr>\n",
              "    <tr>\n",
              "      <th>1</th>\n",
              "      <td>False</td>\n",
              "      <td>False</td>\n",
              "      <td>False</td>\n",
              "      <td>False</td>\n",
              "      <td>False</td>\n",
              "    </tr>\n",
              "    <tr>\n",
              "      <th>2</th>\n",
              "      <td>False</td>\n",
              "      <td>False</td>\n",
              "      <td>False</td>\n",
              "      <td>False</td>\n",
              "      <td>False</td>\n",
              "    </tr>\n",
              "    <tr>\n",
              "      <th>3</th>\n",
              "      <td>False</td>\n",
              "      <td>False</td>\n",
              "      <td>False</td>\n",
              "      <td>False</td>\n",
              "      <td>False</td>\n",
              "    </tr>\n",
              "    <tr>\n",
              "      <th>4</th>\n",
              "      <td>False</td>\n",
              "      <td>False</td>\n",
              "      <td>False</td>\n",
              "      <td>False</td>\n",
              "      <td>False</td>\n",
              "    </tr>\n",
              "    <tr>\n",
              "      <th>...</th>\n",
              "      <td>...</td>\n",
              "      <td>...</td>\n",
              "      <td>...</td>\n",
              "      <td>...</td>\n",
              "      <td>...</td>\n",
              "    </tr>\n",
              "    <tr>\n",
              "      <th>152995</th>\n",
              "      <td>False</td>\n",
              "      <td>False</td>\n",
              "      <td>False</td>\n",
              "      <td>False</td>\n",
              "      <td>False</td>\n",
              "    </tr>\n",
              "    <tr>\n",
              "      <th>152996</th>\n",
              "      <td>False</td>\n",
              "      <td>False</td>\n",
              "      <td>False</td>\n",
              "      <td>False</td>\n",
              "      <td>False</td>\n",
              "    </tr>\n",
              "    <tr>\n",
              "      <th>152997</th>\n",
              "      <td>False</td>\n",
              "      <td>False</td>\n",
              "      <td>False</td>\n",
              "      <td>False</td>\n",
              "      <td>False</td>\n",
              "    </tr>\n",
              "    <tr>\n",
              "      <th>152998</th>\n",
              "      <td>False</td>\n",
              "      <td>False</td>\n",
              "      <td>False</td>\n",
              "      <td>False</td>\n",
              "      <td>False</td>\n",
              "    </tr>\n",
              "    <tr>\n",
              "      <th>152999</th>\n",
              "      <td>False</td>\n",
              "      <td>False</td>\n",
              "      <td>False</td>\n",
              "      <td>False</td>\n",
              "      <td>False</td>\n",
              "    </tr>\n",
              "  </tbody>\n",
              "</table>\n",
              "<p>153000 rows × 5 columns</p>\n",
              "</div>\n",
              "      <button class=\"colab-df-convert\" onclick=\"convertToInteractive('df-2b8d196e-f9f0-4bb2-b15f-81b838e6788b')\"\n",
              "              title=\"Convert this dataframe to an interactive table.\"\n",
              "              style=\"display:none;\">\n",
              "        \n",
              "  <svg xmlns=\"http://www.w3.org/2000/svg\" height=\"24px\"viewBox=\"0 0 24 24\"\n",
              "       width=\"24px\">\n",
              "    <path d=\"M0 0h24v24H0V0z\" fill=\"none\"/>\n",
              "    <path d=\"M18.56 5.44l.94 2.06.94-2.06 2.06-.94-2.06-.94-.94-2.06-.94 2.06-2.06.94zm-11 1L8.5 8.5l.94-2.06 2.06-.94-2.06-.94L8.5 2.5l-.94 2.06-2.06.94zm10 10l.94 2.06.94-2.06 2.06-.94-2.06-.94-.94-2.06-.94 2.06-2.06.94z\"/><path d=\"M17.41 7.96l-1.37-1.37c-.4-.4-.92-.59-1.43-.59-.52 0-1.04.2-1.43.59L10.3 9.45l-7.72 7.72c-.78.78-.78 2.05 0 2.83L4 21.41c.39.39.9.59 1.41.59.51 0 1.02-.2 1.41-.59l7.78-7.78 2.81-2.81c.8-.78.8-2.07 0-2.86zM5.41 20L4 18.59l7.72-7.72 1.47 1.35L5.41 20z\"/>\n",
              "  </svg>\n",
              "      </button>\n",
              "      \n",
              "  <style>\n",
              "    .colab-df-container {\n",
              "      display:flex;\n",
              "      flex-wrap:wrap;\n",
              "      gap: 12px;\n",
              "    }\n",
              "\n",
              "    .colab-df-convert {\n",
              "      background-color: #E8F0FE;\n",
              "      border: none;\n",
              "      border-radius: 50%;\n",
              "      cursor: pointer;\n",
              "      display: none;\n",
              "      fill: #1967D2;\n",
              "      height: 32px;\n",
              "      padding: 0 0 0 0;\n",
              "      width: 32px;\n",
              "    }\n",
              "\n",
              "    .colab-df-convert:hover {\n",
              "      background-color: #E2EBFA;\n",
              "      box-shadow: 0px 1px 2px rgba(60, 64, 67, 0.3), 0px 1px 3px 1px rgba(60, 64, 67, 0.15);\n",
              "      fill: #174EA6;\n",
              "    }\n",
              "\n",
              "    [theme=dark] .colab-df-convert {\n",
              "      background-color: #3B4455;\n",
              "      fill: #D2E3FC;\n",
              "    }\n",
              "\n",
              "    [theme=dark] .colab-df-convert:hover {\n",
              "      background-color: #434B5C;\n",
              "      box-shadow: 0px 1px 3px 1px rgba(0, 0, 0, 0.15);\n",
              "      filter: drop-shadow(0px 1px 2px rgba(0, 0, 0, 0.3));\n",
              "      fill: #FFFFFF;\n",
              "    }\n",
              "  </style>\n",
              "\n",
              "      <script>\n",
              "        const buttonEl =\n",
              "          document.querySelector('#df-2b8d196e-f9f0-4bb2-b15f-81b838e6788b button.colab-df-convert');\n",
              "        buttonEl.style.display =\n",
              "          google.colab.kernel.accessAllowed ? 'block' : 'none';\n",
              "\n",
              "        async function convertToInteractive(key) {\n",
              "          const element = document.querySelector('#df-2b8d196e-f9f0-4bb2-b15f-81b838e6788b');\n",
              "          const dataTable =\n",
              "            await google.colab.kernel.invokeFunction('convertToInteractive',\n",
              "                                                     [key], {});\n",
              "          if (!dataTable) return;\n",
              "\n",
              "          const docLinkHtml = 'Like what you see? Visit the ' +\n",
              "            '<a target=\"_blank\" href=https://colab.research.google.com/notebooks/data_table.ipynb>data table notebook</a>'\n",
              "            + ' to learn more about interactive tables.';\n",
              "          element.innerHTML = '';\n",
              "          dataTable['output_type'] = 'display_data';\n",
              "          await google.colab.output.renderOutput(dataTable, element);\n",
              "          const docLink = document.createElement('div');\n",
              "          docLink.innerHTML = docLinkHtml;\n",
              "          element.appendChild(docLink);\n",
              "        }\n",
              "      </script>\n",
              "    </div>\n",
              "  </div>\n",
              "  "
            ]
          },
          "metadata": {},
          "execution_count": 16
        }
      ]
    },
    {
      "cell_type": "code",
      "source": [
        "df.isna().sum().sum()"
      ],
      "metadata": {
        "colab": {
          "base_uri": "https://localhost:8080/"
        },
        "id": "iT_1ARAjkaG8",
        "outputId": "cb422c8a-1968-4e8e-8dda-74afeb9f5f9f"
      },
      "execution_count": 18,
      "outputs": [
        {
          "output_type": "execute_result",
          "data": {
            "text/plain": [
              "0"
            ]
          },
          "metadata": {},
          "execution_count": 18
        }
      ]
    },
    {
      "cell_type": "code",
      "source": [
        "df.isnull().sum().sum()"
      ],
      "metadata": {
        "colab": {
          "base_uri": "https://localhost:8080/"
        },
        "id": "_qR8whBDkZvw",
        "outputId": "d2fd2174-6890-4890-9e20-9db2b0075257"
      },
      "execution_count": 19,
      "outputs": [
        {
          "output_type": "execute_result",
          "data": {
            "text/plain": [
              "0"
            ]
          },
          "metadata": {},
          "execution_count": 19
        }
      ]
    },
    {
      "cell_type": "code",
      "source": [],
      "metadata": {
        "id": "HAOCUxx5kZSW"
      },
      "execution_count": null,
      "outputs": []
    },
    {
      "cell_type": "code",
      "source": [
        "from sklearn.model_selection import train_test_split\n",
        "from sklearn.preprocessing import StandardScaler\n",
        "from keras.models import Sequential\n",
        "from keras.layers import Dense"
      ],
      "metadata": {
        "id": "y1OUXanEhG5J"
      },
      "execution_count": 7,
      "outputs": []
    },
    {
      "cell_type": "code",
      "source": [
        "X = df.iloc[:, :-1].values\n",
        "y = df.iloc[:, -1].values\n"
      ],
      "metadata": {
        "id": "rYFOuTamhtEP"
      },
      "execution_count": 8,
      "outputs": []
    },
    {
      "cell_type": "code",
      "source": [
        "X_train, X_test, y_train, y_test = train_test_split(X, y, test_size=0.2, random_state=42)\n"
      ],
      "metadata": {
        "id": "khI0Qhdkh3Vz"
      },
      "execution_count": 9,
      "outputs": []
    },
    {
      "cell_type": "code",
      "source": [
        "sc = StandardScaler()\n",
        "X_train = sc.fit_transform(X_train)\n",
        "X_test = sc.transform(X_test)"
      ],
      "metadata": {
        "id": "Fq0HYx21h59D"
      },
      "execution_count": 10,
      "outputs": []
    },
    {
      "cell_type": "code",
      "source": [
        "model = Sequential()\n",
        "model.add(Dense(units=64, activation='relu', input_dim=X_train.shape[1]))\n",
        "model.add(Dense(units=32, activation='relu'))\n",
        "model.add(Dense(units=1, activation='sigmoid'))"
      ],
      "metadata": {
        "id": "rRBLgIfEh8Bf"
      },
      "execution_count": 11,
      "outputs": []
    },
    {
      "cell_type": "code",
      "source": [
        "model.compile(loss='binary_crossentropy', optimizer='adam', metrics=['accuracy'])"
      ],
      "metadata": {
        "id": "0GxLSBvMiCMP"
      },
      "execution_count": 12,
      "outputs": []
    },
    {
      "cell_type": "code",
      "source": [
        "model.summary()"
      ],
      "metadata": {
        "colab": {
          "base_uri": "https://localhost:8080/"
        },
        "id": "V5YJA_SakxGq",
        "outputId": "2d5f5a50-9bbd-4873-f204-6430534c34a0"
      },
      "execution_count": 20,
      "outputs": [
        {
          "output_type": "stream",
          "name": "stdout",
          "text": [
            "Model: \"sequential\"\n",
            "_________________________________________________________________\n",
            " Layer (type)                Output Shape              Param #   \n",
            "=================================================================\n",
            " dense (Dense)               (None, 64)                320       \n",
            "                                                                 \n",
            " dense_1 (Dense)             (None, 32)                2080      \n",
            "                                                                 \n",
            " dense_2 (Dense)             (None, 1)                 33        \n",
            "                                                                 \n",
            "=================================================================\n",
            "Total params: 2,433\n",
            "Trainable params: 2,433\n",
            "Non-trainable params: 0\n",
            "_________________________________________________________________\n"
          ]
        }
      ]
    },
    {
      "cell_type": "code",
      "source": [
        "model.fit(X_train, y_train, epochs=50, batch_size=32, validation_data=(X_test, y_test))"
      ],
      "metadata": {
        "colab": {
          "base_uri": "https://localhost:8080/"
        },
        "id": "4ZDX1NwuiXpW",
        "outputId": "71a0e496-cf18-480d-e8c5-b40aa7672e23"
      },
      "execution_count": 13,
      "outputs": [
        {
          "output_type": "stream",
          "name": "stdout",
          "text": [
            "Epoch 1/50\n",
            "3825/3825 [==============================] - 14s 3ms/step - loss: -4258.3921 - accuracy: 0.0025 - val_loss: -15450.6279 - val_accuracy: 0.0025\n",
            "Epoch 2/50\n",
            "3825/3825 [==============================] - 10s 3ms/step - loss: -46112.8711 - accuracy: 0.0025 - val_loss: -87092.2188 - val_accuracy: 0.0025\n",
            "Epoch 3/50\n",
            "3825/3825 [==============================] - 9s 2ms/step - loss: -156199.0469 - accuracy: 0.0025 - val_loss: -237895.2344 - val_accuracy: 0.0025\n",
            "Epoch 4/50\n",
            "3825/3825 [==============================] - 15s 4ms/step - loss: -357705.4688 - accuracy: 0.0025 - val_loss: -491959.5938 - val_accuracy: 0.0025\n",
            "Epoch 5/50\n",
            "3825/3825 [==============================] - 8s 2ms/step - loss: -674788.0625 - accuracy: 0.0025 - val_loss: -869934.1250 - val_accuracy: 0.0025\n",
            "Epoch 6/50\n",
            "3825/3825 [==============================] - 9s 2ms/step - loss: -1130687.8750 - accuracy: 0.0025 - val_loss: -1398084.8750 - val_accuracy: 0.0025\n",
            "Epoch 7/50\n",
            "3825/3825 [==============================] - 9s 2ms/step - loss: -1744195.7500 - accuracy: 0.0025 - val_loss: -2094433.5000 - val_accuracy: 0.0025\n",
            "Epoch 8/50\n",
            "3825/3825 [==============================] - 8s 2ms/step - loss: -2536872.0000 - accuracy: 0.0025 - val_loss: -2974821.7500 - val_accuracy: 0.0025\n",
            "Epoch 9/50\n",
            "3825/3825 [==============================] - 9s 2ms/step - loss: -3531671.0000 - accuracy: 0.0025 - val_loss: -4079831.7500 - val_accuracy: 0.0025\n",
            "Epoch 10/50\n",
            "3825/3825 [==============================] - 11s 3ms/step - loss: -4763517.0000 - accuracy: 0.0025 - val_loss: -5416935.0000 - val_accuracy: 0.0025\n",
            "Epoch 11/50\n",
            "3825/3825 [==============================] - 10s 3ms/step - loss: -6233105.0000 - accuracy: 0.0025 - val_loss: -7007055.5000 - val_accuracy: 0.0025\n",
            "Epoch 12/50\n",
            "3825/3825 [==============================] - 9s 2ms/step - loss: -7966206.0000 - accuracy: 0.0025 - val_loss: -8865242.0000 - val_accuracy: 0.0025\n",
            "Epoch 13/50\n",
            "3825/3825 [==============================] - 9s 2ms/step - loss: -9985520.0000 - accuracy: 0.0025 - val_loss: -11020774.0000 - val_accuracy: 0.0025\n",
            "Epoch 14/50\n",
            "3825/3825 [==============================] - 9s 2ms/step - loss: -12323438.0000 - accuracy: 0.0025 - val_loss: -13500416.0000 - val_accuracy: 0.0025\n",
            "Epoch 15/50\n",
            "3825/3825 [==============================] - 12s 3ms/step - loss: -14993440.0000 - accuracy: 0.0025 - val_loss: -16341330.0000 - val_accuracy: 0.0025\n",
            "Epoch 16/50\n",
            "3825/3825 [==============================] - 9s 2ms/step - loss: -18018342.0000 - accuracy: 0.0025 - val_loss: -19513300.0000 - val_accuracy: 0.0025\n",
            "Epoch 17/50\n",
            "3825/3825 [==============================] - 8s 2ms/step - loss: -21428554.0000 - accuracy: 0.0025 - val_loss: -23108092.0000 - val_accuracy: 0.0025\n",
            "Epoch 18/50\n",
            "3825/3825 [==============================] - 9s 2ms/step - loss: -25244474.0000 - accuracy: 0.0025 - val_loss: -27081948.0000 - val_accuracy: 0.0025\n",
            "Epoch 19/50\n",
            "3825/3825 [==============================] - 10s 3ms/step - loss: -29474604.0000 - accuracy: 0.0025 - val_loss: -31503748.0000 - val_accuracy: 0.0025\n",
            "Epoch 20/50\n",
            "3825/3825 [==============================] - 10s 3ms/step - loss: -34111232.0000 - accuracy: 0.0025 - val_loss: -36338476.0000 - val_accuracy: 0.0025\n",
            "Epoch 21/50\n",
            "3825/3825 [==============================] - 9s 2ms/step - loss: -39221200.0000 - accuracy: 0.0025 - val_loss: -41626088.0000 - val_accuracy: 0.0025\n",
            "Epoch 22/50\n",
            "3825/3825 [==============================] - 9s 2ms/step - loss: -44789792.0000 - accuracy: 0.0025 - val_loss: -47403268.0000 - val_accuracy: 0.0025\n",
            "Epoch 23/50\n",
            "3825/3825 [==============================] - 9s 2ms/step - loss: -50878148.0000 - accuracy: 0.0025 - val_loss: -53709100.0000 - val_accuracy: 0.0025\n",
            "Epoch 24/50\n",
            "3825/3825 [==============================] - 9s 2ms/step - loss: -57474364.0000 - accuracy: 0.0025 - val_loss: -60528348.0000 - val_accuracy: 0.0025\n",
            "Epoch 25/50\n",
            "3825/3825 [==============================] - 9s 2ms/step - loss: -64669604.0000 - accuracy: 0.0025 - val_loss: -67963104.0000 - val_accuracy: 0.0025\n",
            "Epoch 26/50\n",
            "3825/3825 [==============================] - 9s 2ms/step - loss: -72417056.0000 - accuracy: 0.0025 - val_loss: -75983544.0000 - val_accuracy: 0.0025\n",
            "Epoch 27/50\n",
            "3825/3825 [==============================] - 8s 2ms/step - loss: -80805928.0000 - accuracy: 0.0025 - val_loss: -84572480.0000 - val_accuracy: 0.0025\n",
            "Epoch 28/50\n",
            "3825/3825 [==============================] - 9s 2ms/step - loss: -89757864.0000 - accuracy: 0.0025 - val_loss: -93748632.0000 - val_accuracy: 0.0025\n",
            "Epoch 29/50\n",
            "3825/3825 [==============================] - 9s 2ms/step - loss: -99326088.0000 - accuracy: 0.0025 - val_loss: -103638176.0000 - val_accuracy: 0.0025\n",
            "Epoch 30/50\n",
            "3825/3825 [==============================] - 10s 3ms/step - loss: -109638720.0000 - accuracy: 0.0025 - val_loss: -114116880.0000 - val_accuracy: 0.0025\n",
            "Epoch 31/50\n",
            "3825/3825 [==============================] - 8s 2ms/step - loss: -120426808.0000 - accuracy: 0.0025 - val_loss: -125244040.0000 - val_accuracy: 0.0025\n",
            "Epoch 32/50\n",
            "3825/3825 [==============================] - 9s 2ms/step - loss: -132010232.0000 - accuracy: 0.0025 - val_loss: -137061648.0000 - val_accuracy: 0.0025\n",
            "Epoch 33/50\n",
            "3825/3825 [==============================] - 9s 2ms/step - loss: -144271568.0000 - accuracy: 0.0025 - val_loss: -149548352.0000 - val_accuracy: 0.0025\n",
            "Epoch 34/50\n",
            "3825/3825 [==============================] - 8s 2ms/step - loss: -157200880.0000 - accuracy: 0.0025 - val_loss: -162848784.0000 - val_accuracy: 0.0025\n",
            "Epoch 35/50\n",
            "3825/3825 [==============================] - 9s 2ms/step - loss: -171086960.0000 - accuracy: 0.0025 - val_loss: -177038464.0000 - val_accuracy: 0.0025\n",
            "Epoch 36/50\n",
            "3825/3825 [==============================] - 9s 2ms/step - loss: -185682672.0000 - accuracy: 0.0025 - val_loss: -191832160.0000 - val_accuracy: 0.0025\n",
            "Epoch 37/50\n",
            "3825/3825 [==============================] - 8s 2ms/step - loss: -201123632.0000 - accuracy: 0.0025 - val_loss: -207656464.0000 - val_accuracy: 0.0025\n",
            "Epoch 38/50\n",
            "3825/3825 [==============================] - 9s 2ms/step - loss: -217289008.0000 - accuracy: 0.0025 - val_loss: -224116416.0000 - val_accuracy: 0.0025\n",
            "Epoch 39/50\n",
            "3825/3825 [==============================] - 9s 2ms/step - loss: -234381936.0000 - accuracy: 0.0025 - val_loss: -241547984.0000 - val_accuracy: 0.0025\n",
            "Epoch 40/50\n",
            "3825/3825 [==============================] - 8s 2ms/step - loss: -252463760.0000 - accuracy: 0.0025 - val_loss: -259975440.0000 - val_accuracy: 0.0025\n",
            "Epoch 41/50\n",
            "3825/3825 [==============================] - 9s 2ms/step - loss: -271272288.0000 - accuracy: 0.0025 - val_loss: -278993792.0000 - val_accuracy: 0.0025\n",
            "Epoch 42/50\n",
            "3825/3825 [==============================] - 9s 2ms/step - loss: -290919904.0000 - accuracy: 0.0025 - val_loss: -298969248.0000 - val_accuracy: 0.0025\n",
            "Epoch 43/50\n",
            "3825/3825 [==============================] - 9s 2ms/step - loss: -311515072.0000 - accuracy: 0.0025 - val_loss: -319846240.0000 - val_accuracy: 0.0025\n",
            "Epoch 44/50\n",
            "3825/3825 [==============================] - 9s 2ms/step - loss: -332914560.0000 - accuracy: 0.0025 - val_loss: -341502656.0000 - val_accuracy: 0.0025\n",
            "Epoch 45/50\n",
            "3825/3825 [==============================] - 9s 2ms/step - loss: -355348768.0000 - accuracy: 0.0025 - val_loss: -364371296.0000 - val_accuracy: 0.0025\n",
            "Epoch 46/50\n",
            "3825/3825 [==============================] - 9s 2ms/step - loss: -378747584.0000 - accuracy: 0.0025 - val_loss: -388017536.0000 - val_accuracy: 0.0025\n",
            "Epoch 47/50\n",
            "3825/3825 [==============================] - 8s 2ms/step - loss: -403172416.0000 - accuracy: 0.0025 - val_loss: -412875968.0000 - val_accuracy: 0.0025\n",
            "Epoch 48/50\n",
            "3825/3825 [==============================] - 9s 2ms/step - loss: -428732384.0000 - accuracy: 0.0025 - val_loss: -438816128.0000 - val_accuracy: 0.0025\n",
            "Epoch 49/50\n",
            "3825/3825 [==============================] - 10s 2ms/step - loss: -455495616.0000 - accuracy: 0.0025 - val_loss: -465963392.0000 - val_accuracy: 0.0025\n",
            "Epoch 50/50\n",
            "3825/3825 [==============================] - 9s 2ms/step - loss: -483314016.0000 - accuracy: 0.0025 - val_loss: -494032992.0000 - val_accuracy: 0.0025\n"
          ]
        },
        {
          "output_type": "execute_result",
          "data": {
            "text/plain": [
              "<keras.callbacks.History at 0x7f13ef30fd00>"
            ]
          },
          "metadata": {},
          "execution_count": 13
        }
      ]
    },
    {
      "cell_type": "code",
      "source": [
        "test_loss, test_acc = model.evaluate(X_test, y_test)\n",
        "print('Test accuracy:', test_acc)"
      ],
      "metadata": {
        "colab": {
          "base_uri": "https://localhost:8080/"
        },
        "id": "VVveQpGEiZkE",
        "outputId": "1a43f060-3fbb-459f-dc87-badab7042932"
      },
      "execution_count": 14,
      "outputs": [
        {
          "output_type": "stream",
          "name": "stdout",
          "text": [
            "957/957 [==============================] - 4s 5ms/step - loss: -494032992.0000 - accuracy: 0.0025\n",
            "Test accuracy: 0.0024836601223796606\n"
          ]
        }
      ]
    },
    {
      "cell_type": "code",
      "source": [],
      "metadata": {
        "id": "yRFZ5HOOkVzq"
      },
      "execution_count": null,
      "outputs": []
    }
  ]
}