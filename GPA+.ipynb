{
  "nbformat": 4,
  "nbformat_minor": 0,
  "metadata": {
    "colab": {
      "provenance": [],
      "authorship_tag": "ABX9TyMAQ/kLVc0/zg/4+/eZa98F",
      "include_colab_link": true
    },
    "kernelspec": {
      "name": "python3",
      "display_name": "Python 3"
    },
    "language_info": {
      "name": "python"
    }
  },
  "cells": [
    {
      "cell_type": "markdown",
      "metadata": {
        "id": "view-in-github",
        "colab_type": "text"
      },
      "source": [
        "<a href=\"https://colab.research.google.com/github/Vasudev-SN/MPEA_dataset/blob/master/GPA%2B.ipynb\" target=\"_parent\"><img src=\"https://colab.research.google.com/assets/colab-badge.svg\" alt=\"Open In Colab\"/></a>"
      ]
    },
    {
      "cell_type": "code",
      "execution_count": 1,
      "metadata": {
        "id": "47UFKGxhL_GG"
      },
      "outputs": [],
      "source": [
        "import numpy as np\n",
        "import pandas as pd\n"
      ]
    },
    {
      "cell_type": "code",
      "source": [
        "df=pd.read_csv('gpa_study_hours.csv')"
      ],
      "metadata": {
        "id": "D0EjalsdMq3_"
      },
      "execution_count": 2,
      "outputs": []
    },
    {
      "cell_type": "code",
      "source": [
        "\n",
        "df"
      ],
      "metadata": {
        "colab": {
          "base_uri": "https://localhost:8080/",
          "height": 423
        },
        "id": "tCqJ8LZ4MyQF",
        "outputId": "f5e9f6da-8b03-4b01-e80c-827f506bf321"
      },
      "execution_count": 3,
      "outputs": [
        {
          "output_type": "execute_result",
          "data": {
            "text/plain": [
              "      gpa  study_hours\n",
              "0    4.00         10.0\n",
              "1    3.80         25.0\n",
              "2    3.93         45.0\n",
              "3    3.40         10.0\n",
              "4    3.20          4.0\n",
              "..    ...          ...\n",
              "188  3.60         24.0\n",
              "189  3.70         12.0\n",
              "190  3.84         15.0\n",
              "191  3.80         10.0\n",
              "192  3.10         15.0\n",
              "\n",
              "[193 rows x 2 columns]"
            ],
            "text/html": [
              "\n",
              "  <div id=\"df-50e683fb-00b3-4822-95d8-88701edc17a1\">\n",
              "    <div class=\"colab-df-container\">\n",
              "      <div>\n",
              "<style scoped>\n",
              "    .dataframe tbody tr th:only-of-type {\n",
              "        vertical-align: middle;\n",
              "    }\n",
              "\n",
              "    .dataframe tbody tr th {\n",
              "        vertical-align: top;\n",
              "    }\n",
              "\n",
              "    .dataframe thead th {\n",
              "        text-align: right;\n",
              "    }\n",
              "</style>\n",
              "<table border=\"1\" class=\"dataframe\">\n",
              "  <thead>\n",
              "    <tr style=\"text-align: right;\">\n",
              "      <th></th>\n",
              "      <th>gpa</th>\n",
              "      <th>study_hours</th>\n",
              "    </tr>\n",
              "  </thead>\n",
              "  <tbody>\n",
              "    <tr>\n",
              "      <th>0</th>\n",
              "      <td>4.00</td>\n",
              "      <td>10.0</td>\n",
              "    </tr>\n",
              "    <tr>\n",
              "      <th>1</th>\n",
              "      <td>3.80</td>\n",
              "      <td>25.0</td>\n",
              "    </tr>\n",
              "    <tr>\n",
              "      <th>2</th>\n",
              "      <td>3.93</td>\n",
              "      <td>45.0</td>\n",
              "    </tr>\n",
              "    <tr>\n",
              "      <th>3</th>\n",
              "      <td>3.40</td>\n",
              "      <td>10.0</td>\n",
              "    </tr>\n",
              "    <tr>\n",
              "      <th>4</th>\n",
              "      <td>3.20</td>\n",
              "      <td>4.0</td>\n",
              "    </tr>\n",
              "    <tr>\n",
              "      <th>...</th>\n",
              "      <td>...</td>\n",
              "      <td>...</td>\n",
              "    </tr>\n",
              "    <tr>\n",
              "      <th>188</th>\n",
              "      <td>3.60</td>\n",
              "      <td>24.0</td>\n",
              "    </tr>\n",
              "    <tr>\n",
              "      <th>189</th>\n",
              "      <td>3.70</td>\n",
              "      <td>12.0</td>\n",
              "    </tr>\n",
              "    <tr>\n",
              "      <th>190</th>\n",
              "      <td>3.84</td>\n",
              "      <td>15.0</td>\n",
              "    </tr>\n",
              "    <tr>\n",
              "      <th>191</th>\n",
              "      <td>3.80</td>\n",
              "      <td>10.0</td>\n",
              "    </tr>\n",
              "    <tr>\n",
              "      <th>192</th>\n",
              "      <td>3.10</td>\n",
              "      <td>15.0</td>\n",
              "    </tr>\n",
              "  </tbody>\n",
              "</table>\n",
              "<p>193 rows × 2 columns</p>\n",
              "</div>\n",
              "      <button class=\"colab-df-convert\" onclick=\"convertToInteractive('df-50e683fb-00b3-4822-95d8-88701edc17a1')\"\n",
              "              title=\"Convert this dataframe to an interactive table.\"\n",
              "              style=\"display:none;\">\n",
              "        \n",
              "  <svg xmlns=\"http://www.w3.org/2000/svg\" height=\"24px\"viewBox=\"0 0 24 24\"\n",
              "       width=\"24px\">\n",
              "    <path d=\"M0 0h24v24H0V0z\" fill=\"none\"/>\n",
              "    <path d=\"M18.56 5.44l.94 2.06.94-2.06 2.06-.94-2.06-.94-.94-2.06-.94 2.06-2.06.94zm-11 1L8.5 8.5l.94-2.06 2.06-.94-2.06-.94L8.5 2.5l-.94 2.06-2.06.94zm10 10l.94 2.06.94-2.06 2.06-.94-2.06-.94-.94-2.06-.94 2.06-2.06.94z\"/><path d=\"M17.41 7.96l-1.37-1.37c-.4-.4-.92-.59-1.43-.59-.52 0-1.04.2-1.43.59L10.3 9.45l-7.72 7.72c-.78.78-.78 2.05 0 2.83L4 21.41c.39.39.9.59 1.41.59.51 0 1.02-.2 1.41-.59l7.78-7.78 2.81-2.81c.8-.78.8-2.07 0-2.86zM5.41 20L4 18.59l7.72-7.72 1.47 1.35L5.41 20z\"/>\n",
              "  </svg>\n",
              "      </button>\n",
              "      \n",
              "  <style>\n",
              "    .colab-df-container {\n",
              "      display:flex;\n",
              "      flex-wrap:wrap;\n",
              "      gap: 12px;\n",
              "    }\n",
              "\n",
              "    .colab-df-convert {\n",
              "      background-color: #E8F0FE;\n",
              "      border: none;\n",
              "      border-radius: 50%;\n",
              "      cursor: pointer;\n",
              "      display: none;\n",
              "      fill: #1967D2;\n",
              "      height: 32px;\n",
              "      padding: 0 0 0 0;\n",
              "      width: 32px;\n",
              "    }\n",
              "\n",
              "    .colab-df-convert:hover {\n",
              "      background-color: #E2EBFA;\n",
              "      box-shadow: 0px 1px 2px rgba(60, 64, 67, 0.3), 0px 1px 3px 1px rgba(60, 64, 67, 0.15);\n",
              "      fill: #174EA6;\n",
              "    }\n",
              "\n",
              "    [theme=dark] .colab-df-convert {\n",
              "      background-color: #3B4455;\n",
              "      fill: #D2E3FC;\n",
              "    }\n",
              "\n",
              "    [theme=dark] .colab-df-convert:hover {\n",
              "      background-color: #434B5C;\n",
              "      box-shadow: 0px 1px 3px 1px rgba(0, 0, 0, 0.15);\n",
              "      filter: drop-shadow(0px 1px 2px rgba(0, 0, 0, 0.3));\n",
              "      fill: #FFFFFF;\n",
              "    }\n",
              "  </style>\n",
              "\n",
              "      <script>\n",
              "        const buttonEl =\n",
              "          document.querySelector('#df-50e683fb-00b3-4822-95d8-88701edc17a1 button.colab-df-convert');\n",
              "        buttonEl.style.display =\n",
              "          google.colab.kernel.accessAllowed ? 'block' : 'none';\n",
              "\n",
              "        async function convertToInteractive(key) {\n",
              "          const element = document.querySelector('#df-50e683fb-00b3-4822-95d8-88701edc17a1');\n",
              "          const dataTable =\n",
              "            await google.colab.kernel.invokeFunction('convertToInteractive',\n",
              "                                                     [key], {});\n",
              "          if (!dataTable) return;\n",
              "\n",
              "          const docLinkHtml = 'Like what you see? Visit the ' +\n",
              "            '<a target=\"_blank\" href=https://colab.research.google.com/notebooks/data_table.ipynb>data table notebook</a>'\n",
              "            + ' to learn more about interactive tables.';\n",
              "          element.innerHTML = '';\n",
              "          dataTable['output_type'] = 'display_data';\n",
              "          await google.colab.output.renderOutput(dataTable, element);\n",
              "          const docLink = document.createElement('div');\n",
              "          docLink.innerHTML = docLinkHtml;\n",
              "          element.appendChild(docLink);\n",
              "        }\n",
              "      </script>\n",
              "    </div>\n",
              "  </div>\n",
              "  "
            ]
          },
          "metadata": {},
          "execution_count": 3
        }
      ]
    },
    {
      "cell_type": "code",
      "source": [
        "df.isna().sum()"
      ],
      "metadata": {
        "id": "77pysIesNHeO",
        "colab": {
          "base_uri": "https://localhost:8080/"
        },
        "outputId": "86200dcc-4b44-482b-99ef-fedcef6d24e2"
      },
      "execution_count": 4,
      "outputs": [
        {
          "output_type": "execute_result",
          "data": {
            "text/plain": [
              "gpa            0\n",
              "study_hours    0\n",
              "dtype: int64"
            ]
          },
          "metadata": {},
          "execution_count": 4
        }
      ]
    },
    {
      "cell_type": "code",
      "source": [
        "df.isnull().sum()"
      ],
      "metadata": {
        "id": "3edHyPdMNLIL",
        "colab": {
          "base_uri": "https://localhost:8080/"
        },
        "outputId": "0160cce1-d846-4ce6-f7a4-2c7ce07d4116"
      },
      "execution_count": 5,
      "outputs": [
        {
          "output_type": "execute_result",
          "data": {
            "text/plain": [
              "gpa            0\n",
              "study_hours    0\n",
              "dtype: int64"
            ]
          },
          "metadata": {},
          "execution_count": 5
        }
      ]
    },
    {
      "cell_type": "code",
      "source": [
        "import seaborn as sns"
      ],
      "metadata": {
        "id": "ZsPM4Ki6QH4S"
      },
      "execution_count": 6,
      "outputs": []
    },
    {
      "cell_type": "code",
      "source": [
        "sns.heatmap(df)"
      ],
      "metadata": {
        "colab": {
          "base_uri": "https://localhost:8080/",
          "height": 288
        },
        "id": "qenqTQh2QOxv",
        "outputId": "1992a742-9bad-4b15-8701-6f84850bb78e"
      },
      "execution_count": 7,
      "outputs": [
        {
          "output_type": "execute_result",
          "data": {
            "text/plain": [
              "<Axes: >"
            ]
          },
          "metadata": {},
          "execution_count": 7
        },
        {
          "output_type": "display_data",
          "data": {
            "text/plain": [
              "<Figure size 432x288 with 2 Axes>"
            ],
            "image/png": "[encoded data removed]"
          },
          "metadata": {
            "needs_background": "light"
          }
        }
      ]
    },
    {
      "cell_type": "code",
      "source": [
        "import matplotlib.pyplot as plt"
      ],
      "metadata": {
        "id": "dg-5Pg15QQW5"
      },
      "execution_count": 8,
      "outputs": []
    },
    {
      "cell_type": "code",
      "source": [
        "plt.scatter(df['gpa'],df['study_hours']);"
      ],
      "metadata": {
        "colab": {
          "base_uri": "https://localhost:8080/",
          "height": 265
        },
        "id": "4NR5c8V_QT3U",
        "outputId": "984d63ed-65a2-4864-d694-125f0b7e765b"
      },
      "execution_count": 9,
      "outputs": [
        {
          "output_type": "display_data",
          "data": {
            "text/plain": [
              "<Figure size 432x288 with 1 Axes>"
            ],
            "image/png": "[encoded data removed]"
          },
          "metadata": {
            "needs_background": "light"
          }
        }
      ]
    },
    {
      "cell_type": "code",
      "source": [
        "x=df['gpa'].values"
      ],
      "metadata": {
        "id": "guFXFcuyQfRW"
      },
      "execution_count": 10,
      "outputs": []
    },
    {
      "cell_type": "code",
      "source": [
        "y=df['study_hours'].values"
      ],
      "metadata": {
        "id": "uyhnuUUXQp3X"
      },
      "execution_count": 11,
      "outputs": []
    },
    {
      "cell_type": "code",
      "source": [
        "from keras import Sequential"
      ],
      "metadata": {
        "id": "PJGBMUUTQux8"
      },
      "execution_count": 12,
      "outputs": []
    },
    {
      "cell_type": "code",
      "source": [
        "from keras.layers import Dense"
      ],
      "metadata": {
        "id": "uPC8pB8HRDK9"
      },
      "execution_count": 13,
      "outputs": []
    },
    {
      "cell_type": "code",
      "source": [
        "model = Sequential()\n",
        "model.add(Dense(1, input_shape=(1,), kernel_initializer='normal'))\n",
        "model.add(Dense(1, input_shape=(1,), kernel_initializer='normal'))\n",
        "model.add(Dense(1, input_shape=(1,), kernel_initializer='normal'))\n",
        "\n",
        "\n",
        "model.add(Dense(1, kernel_initializer='normal' ))"
      ],
      "metadata": {
        "id": "XUKVtNKzRHP0"
      },
      "execution_count": 14,
      "outputs": []
    },
    {
      "cell_type": "code",
      "source": [
        "model.compile(loss='mean_squared_error', optimizer='adam')"
      ],
      "metadata": {
        "id": "l2nrp8nRRLaV"
      },
      "execution_count": 15,
      "outputs": []
    },
    {
      "cell_type": "code",
      "source": [],
      "metadata": {
        "id": "Ek8tWXRIY3zZ"
      },
      "execution_count": 15,
      "outputs": []
    },
    {
      "cell_type": "code",
      "source": [
        "model.fit(x,y,epochs=80,verbose=1)"
      ],
      "metadata": {
        "colab": {
          "base_uri": "https://localhost:8080/"
        },
        "id": "1hO6J9QfRO9w",
        "outputId": "7e707fdc-e162-48c0-c8fd-4b15ebc9651e"
      },
      "execution_count": 16,
      "outputs": [
        {
          "output_type": "stream",
          "name": "stdout",
          "text": [
            "Epoch 1/80\n",
            "7/7 [==============================] - 2s 7ms/step - loss: 434.8264\n",
            "Epoch 2/80\n",
            "7/7 [==============================] - 0s 6ms/step - loss: 434.5603\n",
            "Epoch 3/80\n",
            "7/7 [==============================] - 0s 6ms/step - loss: 434.2729\n",
            "Epoch 4/80\n",
            "7/7 [==============================] - 0s 5ms/step - loss: 433.9896\n",
            "Epoch 5/80\n",
            "7/7 [==============================] - 0s 6ms/step - loss: 433.7068\n",
            "Epoch 6/80\n",
            "7/7 [==============================] - 0s 5ms/step - loss: 433.4203\n",
            "Epoch 7/80\n",
            "7/7 [==============================] - 0s 5ms/step - loss: 433.1519\n",
            "Epoch 8/80\n",
            "7/7 [==============================] - 0s 6ms/step - loss: 432.8736\n",
            "Epoch 9/80\n",
            "7/7 [==============================] - 0s 5ms/step - loss: 432.5914\n",
            "Epoch 10/80\n",
            "7/7 [==============================] - 0s 4ms/step - loss: 432.2825\n",
            "Epoch 11/80\n",
            "7/7 [==============================] - 0s 5ms/step - loss: 431.9684\n",
            "Epoch 12/80\n",
            "7/7 [==============================] - 0s 4ms/step - loss: 431.6281\n",
            "Epoch 13/80\n",
            "7/7 [==============================] - 0s 4ms/step - loss: 431.2673\n",
            "Epoch 14/80\n",
            "7/7 [==============================] - 0s 4ms/step - loss: 430.8902\n",
            "Epoch 15/80\n",
            "7/7 [==============================] - 0s 4ms/step - loss: 430.4874\n",
            "Epoch 16/80\n",
            "7/7 [==============================] - 0s 6ms/step - loss: 430.0315\n",
            "Epoch 17/80\n",
            "7/7 [==============================] - 0s 5ms/step - loss: 429.5482\n",
            "Epoch 18/80\n",
            "7/7 [==============================] - 0s 5ms/step - loss: 429.0574\n",
            "Epoch 19/80\n",
            "7/7 [==============================] - 0s 4ms/step - loss: 428.5670\n",
            "Epoch 20/80\n",
            "7/7 [==============================] - 0s 4ms/step - loss: 428.0226\n",
            "Epoch 21/80\n",
            "7/7 [==============================] - 0s 4ms/step - loss: 427.4899\n",
            "Epoch 22/80\n",
            "7/7 [==============================] - 0s 5ms/step - loss: 426.8901\n",
            "Epoch 23/80\n",
            "7/7 [==============================] - 0s 5ms/step - loss: 426.2271\n",
            "Epoch 24/80\n",
            "7/7 [==============================] - 0s 5ms/step - loss: 425.5136\n",
            "Epoch 25/80\n",
            "7/7 [==============================] - 0s 5ms/step - loss: 424.7140\n",
            "Epoch 26/80\n",
            "7/7 [==============================] - 0s 4ms/step - loss: 423.8492\n",
            "Epoch 27/80\n",
            "7/7 [==============================] - 0s 4ms/step - loss: 422.9555\n",
            "Epoch 28/80\n",
            "7/7 [==============================] - 0s 5ms/step - loss: 421.9396\n",
            "Epoch 29/80\n",
            "7/7 [==============================] - 0s 5ms/step - loss: 420.8976\n",
            "Epoch 30/80\n",
            "7/7 [==============================] - 0s 4ms/step - loss: 419.7519\n",
            "Epoch 31/80\n",
            "7/7 [==============================] - 0s 5ms/step - loss: 418.4695\n",
            "Epoch 32/80\n",
            "7/7 [==============================] - 0s 4ms/step - loss: 417.1602\n",
            "Epoch 33/80\n",
            "7/7 [==============================] - 0s 4ms/step - loss: 415.6961\n",
            "Epoch 34/80\n",
            "7/7 [==============================] - 0s 4ms/step - loss: 414.1628\n",
            "Epoch 35/80\n",
            "7/7 [==============================] - 0s 4ms/step - loss: 412.6196\n",
            "Epoch 36/80\n",
            "7/7 [==============================] - 0s 4ms/step - loss: 410.9887\n",
            "Epoch 37/80\n",
            "7/7 [==============================] - 0s 4ms/step - loss: 409.1775\n",
            "Epoch 38/80\n",
            "7/7 [==============================] - 0s 4ms/step - loss: 407.3522\n",
            "Epoch 39/80\n",
            "7/7 [==============================] - 0s 6ms/step - loss: 405.3485\n",
            "Epoch 40/80\n",
            "7/7 [==============================] - 0s 4ms/step - loss: 403.1746\n",
            "Epoch 41/80\n",
            "7/7 [==============================] - 0s 5ms/step - loss: 400.7828\n",
            "Epoch 42/80\n",
            "7/7 [==============================] - 0s 5ms/step - loss: 398.4565\n",
            "Epoch 43/80\n",
            "7/7 [==============================] - 0s 5ms/step - loss: 395.8906\n",
            "Epoch 44/80\n",
            "7/7 [==============================] - 0s 5ms/step - loss: 393.2556\n",
            "Epoch 45/80\n",
            "7/7 [==============================] - 0s 5ms/step - loss: 390.5602\n",
            "Epoch 46/80\n",
            "7/7 [==============================] - 0s 4ms/step - loss: 387.6421\n",
            "Epoch 47/80\n",
            "7/7 [==============================] - 0s 4ms/step - loss: 384.5132\n",
            "Epoch 48/80\n",
            "7/7 [==============================] - 0s 4ms/step - loss: 381.0826\n",
            "Epoch 49/80\n",
            "7/7 [==============================] - 0s 4ms/step - loss: 377.5129\n",
            "Epoch 50/80\n",
            "7/7 [==============================] - 0s 4ms/step - loss: 373.8593\n",
            "Epoch 51/80\n",
            "7/7 [==============================] - 0s 4ms/step - loss: 369.9319\n",
            "Epoch 52/80\n",
            "7/7 [==============================] - 0s 4ms/step - loss: 366.1146\n",
            "Epoch 53/80\n",
            "7/7 [==============================] - 0s 4ms/step - loss: 362.0009\n",
            "Epoch 54/80\n",
            "7/7 [==============================] - 0s 3ms/step - loss: 357.5857\n",
            "Epoch 55/80\n",
            "7/7 [==============================] - 0s 5ms/step - loss: 352.7846\n",
            "Epoch 56/80\n",
            "7/7 [==============================] - 0s 5ms/step - loss: 347.6624\n",
            "Epoch 57/80\n",
            "7/7 [==============================] - 0s 6ms/step - loss: 342.5308\n",
            "Epoch 58/80\n",
            "7/7 [==============================] - 0s 4ms/step - loss: 337.4338\n",
            "Epoch 59/80\n",
            "7/7 [==============================] - 0s 5ms/step - loss: 331.8161\n",
            "Epoch 60/80\n",
            "7/7 [==============================] - 0s 6ms/step - loss: 326.3611\n",
            "Epoch 61/80\n",
            "7/7 [==============================] - 0s 5ms/step - loss: 320.8514\n",
            "Epoch 62/80\n",
            "7/7 [==============================] - 0s 5ms/step - loss: 315.2767\n",
            "Epoch 63/80\n",
            "7/7 [==============================] - 0s 5ms/step - loss: 309.5518\n",
            "Epoch 64/80\n",
            "7/7 [==============================] - 0s 4ms/step - loss: 303.3283\n",
            "Epoch 65/80\n",
            "7/7 [==============================] - 0s 4ms/step - loss: 297.1508\n",
            "Epoch 66/80\n",
            "7/7 [==============================] - 0s 3ms/step - loss: 291.2232\n",
            "Epoch 67/80\n",
            "7/7 [==============================] - 0s 3ms/step - loss: 285.0422\n",
            "Epoch 68/80\n",
            "7/7 [==============================] - 0s 3ms/step - loss: 278.3586\n",
            "Epoch 69/80\n",
            "7/7 [==============================] - 0s 3ms/step - loss: 271.3857\n",
            "Epoch 70/80\n",
            "7/7 [==============================] - 0s 3ms/step - loss: 264.6693\n",
            "Epoch 71/80\n",
            "7/7 [==============================] - 0s 3ms/step - loss: 257.8563\n",
            "Epoch 72/80\n",
            "7/7 [==============================] - 0s 3ms/step - loss: 251.4799\n",
            "Epoch 73/80\n",
            "7/7 [==============================] - 0s 3ms/step - loss: 245.1366\n",
            "Epoch 74/80\n",
            "7/7 [==============================] - 0s 3ms/step - loss: 238.3151\n",
            "Epoch 75/80\n",
            "7/7 [==============================] - 0s 3ms/step - loss: 231.5263\n",
            "Epoch 76/80\n",
            "7/7 [==============================] - 0s 2ms/step - loss: 224.3739\n",
            "Epoch 77/80\n",
            "7/7 [==============================] - 0s 3ms/step - loss: 218.4037\n",
            "Epoch 78/80\n",
            "7/7 [==============================] - 0s 3ms/step - loss: 212.5735\n",
            "Epoch 79/80\n",
            "7/7 [==============================] - 0s 3ms/step - loss: 206.5277\n",
            "Epoch 80/80\n",
            "7/7 [==============================] - 0s 3ms/step - loss: 201.1657\n"
          ]
        },
        {
          "output_type": "execute_result",
          "data": {
            "text/plain": [
              "<keras.callbacks.History at 0x7fb14c01ce80>"
            ]
          },
          "metadata": {},
          "execution_count": 16
        }
      ]
    },
    {
      "cell_type": "code",
      "source": [
        "y_pred=model.predict(x)"
      ],
      "metadata": {
        "colab": {
          "base_uri": "https://localhost:8080/"
        },
        "id": "nuKicCOvRUyh",
        "outputId": "476ec61d-02fe-4967-9505-df7862f1c978"
      },
      "execution_count": 17,
      "outputs": [
        {
          "output_type": "stream",
          "name": "stdout",
          "text": [
            "7/7 [==============================] - 0s 2ms/step\n"
          ]
        }
      ]
    },
    {
      "cell_type": "code",
      "source": [
        "y_pred"
      ],
      "metadata": {
        "colab": {
          "base_uri": "https://localhost:8080/"
        },
        "id": "VXNwIPeZRsfI",
        "outputId": "d2ae5e3e-3732-4592-b25d-131cc22626fd"
      },
      "execution_count": 18,
      "outputs": [
        {
          "output_type": "execute_result",
          "data": {
            "text/plain": [
              "array([[ 9.776053 ],\n",
              "       [ 9.479622 ],\n",
              "       [ 9.672303 ],\n",
              "       [ 8.886761 ],\n",
              "       [ 8.590328 ],\n",
              "       [ 9.064619 ],\n",
              "       [ 9.3017645],\n",
              "       [ 8.886761 ],\n",
              "       [ 9.331407 ],\n",
              "       [ 9.405515 ],\n",
              "       [ 8.7385435],\n",
              "       [ 8.923814 ],\n",
              "       [ 9.472211 ],\n",
              "       [ 9.524087 ],\n",
              "       [ 8.7385435],\n",
              "       [ 9.405515 ],\n",
              "       [ 8.516221 ],\n",
              "       [ 9.331407 ],\n",
              "       [ 9.479622 ],\n",
              "       [ 9.227656 ],\n",
              "       [ 9.627838 ],\n",
              "       [ 8.729651 ],\n",
              "       [ 9.331407 ],\n",
              "       [ 8.886761 ],\n",
              "       [ 9.776053 ],\n",
              "       [ 8.886761 ],\n",
              "       [ 9.331407 ],\n",
              "       [ 9.479622 ],\n",
              "       [ 8.886761 ],\n",
              "       [ 8.886761 ],\n",
              "       [ 8.886761 ],\n",
              "       [ 8.293898 ],\n",
              "       [ 9.183191 ],\n",
              "       [ 9.13428  ],\n",
              "       [ 8.7385435],\n",
              "       [ 8.886761 ],\n",
              "       [ 9.183191 ],\n",
              "       [ 9.2869425],\n",
              "       [ 9.509264 ],\n",
              "       [ 8.145681 ],\n",
              "       [ 9.627838 ],\n",
              "       [ 8.886761 ],\n",
              "       [ 9.183191 ],\n",
              "       [ 8.442113 ],\n",
              "       [ 8.886761 ],\n",
              "       [ 9.479622 ],\n",
              "       [ 9.331407 ],\n",
              "       [ 9.331407 ],\n",
              "       [ 9.479622 ],\n",
              "       [ 9.657481 ],\n",
              "       [ 9.479622 ],\n",
              "       [ 9.580409 ],\n",
              "       [ 8.812652 ],\n",
              "       [ 9.55373  ],\n",
              "       [ 9.109083 ],\n",
              "       [ 9.331407 ],\n",
              "       [ 9.257298 ],\n",
              "       [ 8.479166 ],\n",
              "       [ 9.776053 ],\n",
              "       [ 8.664436 ],\n",
              "       [ 9.568551 ],\n",
              "       [ 9.034976 ],\n",
              "       [ 8.960868 ],\n",
              "       [ 9.183191 ],\n",
              "       [ 9.577445 ],\n",
              "       [ 9.509264 ],\n",
              "       [ 8.590328 ],\n",
              "       [ 9.034976 ],\n",
              "       [ 9.479622 ],\n",
              "       [ 9.479622 ],\n",
              "       [ 9.331407 ],\n",
              "       [ 9.405515 ],\n",
              "       [ 8.7385435],\n",
              "       [ 9.590783 ],\n",
              "       [ 9.331407 ],\n",
              "       [ 9.034976 ],\n",
              "       [ 8.590328 ],\n",
              "       [ 9.132798 ],\n",
              "       [ 9.034976 ],\n",
              "       [10.220701 ],\n",
              "       [ 9.183191 ],\n",
              "       [ 8.590328 ],\n",
              "       [ 9.516676 ],\n",
              "       [ 9.55373  ],\n",
              "       [ 9.405515 ],\n",
              "       [ 9.776053 ],\n",
              "       [ 8.886761 ],\n",
              "       [ 9.627838 ],\n",
              "       [ 9.516676 ],\n",
              "       [ 9.331407 ],\n",
              "       [ 9.479622 ],\n",
              "       [ 8.160503 ],\n",
              "       [ 9.122422 ],\n",
              "       [ 9.316586 ],\n",
              "       [ 8.7385435],\n",
              "       [ 9.405515 ],\n",
              "       [ 9.627838 ],\n",
              "       [ 9.257298 ],\n",
              "       [ 9.034976 ],\n",
              "       [ 9.183191 ],\n",
              "       [ 9.294353 ],\n",
              "       [ 9.627838 ],\n",
              "       [ 9.183191 ],\n",
              "       [ 9.294353 ],\n",
              "       [ 9.331407 ],\n",
              "       [ 9.27212  ],\n",
              "       [ 9.380318 ],\n",
              "       [ 9.331407 ],\n",
              "       [ 7.7010345],\n",
              "       [ 9.776053 ],\n",
              "       [ 8.590328 ],\n",
              "       [ 8.531042 ],\n",
              "       [ 9.034976 ],\n",
              "       [ 9.257298 ],\n",
              "       [ 9.627838 ],\n",
              "       [ 9.45739  ],\n",
              "       [ 8.442113 ],\n",
              "       [ 8.516221 ],\n",
              "       [ 9.198012 ],\n",
              "       [ 8.7385435],\n",
              "       [ 9.331407 ],\n",
              "       [ 9.331407 ],\n",
              "       [ 9.405515 ],\n",
              "       [ 8.886761 ],\n",
              "       [ 9.183191 ],\n",
              "       [ 9.034976 ],\n",
              "       [ 9.479622 ],\n",
              "       [ 9.331407 ],\n",
              "       [ 9.538908 ],\n",
              "       [ 8.901582 ],\n",
              "       [ 9.516676 ],\n",
              "       [ 8.2197895],\n",
              "       [ 9.664891 ],\n",
              "       [ 8.7385435],\n",
              "       [ 8.7385435],\n",
              "       [ 9.183191 ],\n",
              "       [ 9.776053 ],\n",
              "       [ 8.7385435],\n",
              "       [ 9.613016 ],\n",
              "       [ 8.590328 ],\n",
              "       [ 9.731589 ],\n",
              "       [ 8.7385435],\n",
              "       [ 9.568551 ],\n",
              "       [ 9.420336 ],\n",
              "       [ 9.034976 ],\n",
              "       [ 9.183191 ],\n",
              "       [ 9.109083 ],\n",
              "       [ 9.731589 ],\n",
              "       [ 9.664891 ],\n",
              "       [ 9.3017645],\n",
              "       [ 8.664436 ],\n",
              "       [ 9.123904 ],\n",
              "       [ 8.071573 ],\n",
              "       [ 9.183191 ],\n",
              "       [ 8.960868 ],\n",
              "       [ 9.034976 ],\n",
              "       [ 8.516221 ],\n",
              "       [ 8.812652 ],\n",
              "       [ 9.034976 ],\n",
              "       [ 9.464801 ],\n",
              "       [ 8.326505 ],\n",
              "       [ 8.97569  ],\n",
              "       [ 9.109083 ],\n",
              "       [ 9.731589 ],\n",
              "       [ 9.664891 ],\n",
              "       [ 8.590328 ],\n",
              "       [ 8.886761 ],\n",
              "       [ 9.627838 ],\n",
              "       [ 9.183191 ],\n",
              "       [ 9.524087 ],\n",
              "       [ 9.479622 ],\n",
              "       [ 9.776053 ],\n",
              "       [ 9.034976 ],\n",
              "       [ 8.7385435],\n",
              "       [ 9.776053 ],\n",
              "       [ 8.442113 ],\n",
              "       [ 9.034976 ],\n",
              "       [ 9.212834 ],\n",
              "       [ 9.183191 ],\n",
              "       [ 9.479622 ],\n",
              "       [ 8.590328 ],\n",
              "       [ 9.664891 ],\n",
              "       [ 9.538908 ],\n",
              "       [ 8.442113 ],\n",
              "       [ 9.776053 ],\n",
              "       [ 8.812652 ],\n",
              "       [ 9.664891 ],\n",
              "       [ 8.293898 ],\n",
              "       [ 9.183191 ],\n",
              "       [ 9.331407 ],\n",
              "       [ 9.538908 ],\n",
              "       [ 9.479622 ],\n",
              "       [ 8.442113 ]], dtype=float32)"
            ]
          },
          "metadata": {},
          "execution_count": 18
        }
      ]
    },
    {
      "cell_type": "code",
      "source": [
        "import matplotlib.pyplot as plt"
      ],
      "metadata": {
        "id": "-cltHbboRt_4"
      },
      "execution_count": 19,
      "outputs": []
    },
    {
      "cell_type": "code",
      "source": [
        "plt.scatter(x,y_pred)\n",
        "plt.xlabel('GPA')\n",
        "plt.ylabel('Studey_hours')\n",
        "plt.title('Predicted');"
      ],
      "metadata": {
        "colab": {
          "base_uri": "https://localhost:8080/",
          "height": 295
        },
        "id": "Vzof2JuZTQwT",
        "outputId": "9fef63ec-5e49-45ea-ca56-99bfb164f648"
      },
      "execution_count": 20,
      "outputs": [
        {
          "output_type": "display_data",
          "data": {
            "text/plain": [
              "<Figure size 432x288 with 1 Axes>"
            ],
            "image/png": "[encoded data removed]"
          },
          "metadata": {
            "needs_background": "light"
          }
        }
      ]
    },
    {
      "cell_type": "code",
      "source": [
        "model.evaluate(x=x,y=y_pred)"
      ],
      "metadata": {
        "id": "JD4JPLJITSoE",
        "colab": {
          "base_uri": "https://localhost:8080/"
        },
        "outputId": "1464bb6d-230d-464f-bcdf-040ada72d086"
      },
      "execution_count": 23,
      "outputs": [
        {
          "output_type": "stream",
          "name": "stdout",
          "text": [
            "7/7 [==============================] - 0s 3ms/step - loss: 0.0000e+00\n"
          ]
        },
        {
          "output_type": "execute_result",
          "data": {
            "text/plain": [
              "0.0"
            ]
          },
          "metadata": {},
          "execution_count": 23
        }
      ]
    },
    {
      "cell_type": "code",
      "source": [
        "plt.plot(y,y_pred)"
      ],
      "metadata": {
        "id": "eWydNFMCZNC1",
        "colab": {
          "base_uri": "https://localhost:8080/",
          "height": 282
        },
        "outputId": "8fc2ce53-ee9d-405c-f580-b709cd30ac9e"
      },
      "execution_count": 24,
      "outputs": [
        {
          "output_type": "execute_result",
          "data": {
            "text/plain": [
              "[<matplotlib.lines.Line2D at 0x7fb13f79dd90>]"
            ]
          },
          "metadata": {},
          "execution_count": 24
        },
        {
          "output_type": "display_data",
          "data": {
            "text/plain": [
              "<Figure size 432x288 with 1 Axes>"
            ],
            "image/png": "[encoded data removed]"
          },
          "metadata": {
            "needs_background": "light"
          }
        }
      ]
    },
    {
      "cell_type": "code",
      "source": [
        "import matplotlib.pyplot as plt\n",
        "from sklearn.model_selection import train_test_split\n",
        "\n",
        "# Assuming that the history variable contains the loss and accuracy data during training and validation\n",
        "X_train, X_test, y_train, y_test = train_test_split(x, y, test_size=0.2, random_state=42)\n",
        "history = model.fit(X_train, y_train, validation_data=(x, y), epochs=10)\n",
        "\n",
        "# Plot the training and validation loss\n",
        "plt.plot(history.history['loss'])\n",
        "plt.plot(history.history['val_loss'])\n",
        "plt.title('Model loss')\n",
        "plt.ylabel('Loss')\n",
        "plt.xlabel('Epoch')\n",
        "plt.legend(['Train', 'Validation'], loc='upper right')\n",
        "plt.show()\n",
        "\n",
        "# Plot the training and validation accuracy\n",
        "plt.plot(history.history['accuracy'])\n",
        "plt.plot(history.history['val_accuracy'])\n",
        "plt.title('Model accuracy')\n",
        "plt.ylabel('Accuracy')\n",
        "plt.xlabel('Epoch')\n",
        "plt.legend(['Train', 'Validation'], loc='lower right')\n",
        "plt.show()"
      ],
      "metadata": {
        "id": "cG0q6m7FaRgD",
        "colab": {
          "base_uri": "https://localhost:8080/",
          "height": 860
        },
        "outputId": "70a7b970-6041-47d2-e02c-6c2f38894f80"
      },
      "execution_count": 26,
      "outputs": [
        {
          "output_type": "stream",
          "name": "stdout",
          "text": [
            "Epoch 1/10\n",
            "5/5 [==============================] - 1s 188ms/step - loss: 221.7414 - val_loss: 193.4070\n",
            "Epoch 2/10\n",
            "5/5 [==============================] - 0s 30ms/step - loss: 217.5587 - val_loss: 189.4005\n",
            "Epoch 3/10\n",
            "5/5 [==============================] - 0s 55ms/step - loss: 213.2282 - val_loss: 185.6189\n",
            "Epoch 4/10\n",
            "5/5 [==============================] - 0s 77ms/step - loss: 208.9102 - val_loss: 182.0798\n",
            "Epoch 5/10\n",
            "5/5 [==============================] - 0s 80ms/step - loss: 205.2078 - val_loss: 178.5415\n",
            "Epoch 6/10\n",
            "5/5 [==============================] - 0s 66ms/step - loss: 201.1968 - val_loss: 175.1959\n",
            "Epoch 7/10\n",
            "5/5 [==============================] - 0s 50ms/step - loss: 197.7036 - val_loss: 171.8477\n",
            "Epoch 8/10\n",
            "5/5 [==============================] - 0s 36ms/step - loss: 194.1037 - val_loss: 168.6222\n",
            "Epoch 9/10\n",
            "5/5 [==============================] - 0s 17ms/step - loss: 190.7688 - val_loss: 165.4760\n",
            "Epoch 10/10\n",
            "5/5 [==============================] - 0s 17ms/step - loss: 187.1407 - val_loss: 162.5982\n"
          ]
        },
        {
          "output_type": "display_data",
          "data": {
            "text/plain": [
              "<Figure size 432x288 with 1 Axes>"
            ],
            "image/png": "[encoded data removed]"
          },
          "metadata": {
            "needs_background": "light"
          }
        },
        {
          "output_type": "error",
          "ename": "KeyError",
          "evalue": "ignored",
          "traceback": [
            "\u001b[0;31m---------------------------------------------------------------------------\u001b[0m",
            "\u001b[0;31mKeyError\u001b[0m                                  Traceback (most recent call last)",
            "\u001b[0;32m<ipython-input-26-45369c4dd8f0>\u001b[0m in \u001b[0;36m<module>\u001b[0;34m\u001b[0m\n\u001b[1;32m     16\u001b[0m \u001b[0;34m\u001b[0m\u001b[0m\n\u001b[1;32m     17\u001b[0m \u001b[0;31m# Plot the training and validation accuracy\u001b[0m\u001b[0;34m\u001b[0m\u001b[0;34m\u001b[0m\u001b[0m\n\u001b[0;32m---> 18\u001b[0;31m \u001b[0mplt\u001b[0m\u001b[0;34m.\u001b[0m\u001b[0mplot\u001b[0m\u001b[0;34m(\u001b[0m\u001b[0mhistory\u001b[0m\u001b[0;34m.\u001b[0m\u001b[0mhistory\u001b[0m\u001b[0;34m[\u001b[0m\u001b[0;34m'accuracy'\u001b[0m\u001b[0;34m]\u001b[0m\u001b[0;34m)\u001b[0m\u001b[0;34m\u001b[0m\u001b[0;34m\u001b[0m\u001b[0m\n\u001b[0m\u001b[1;32m     19\u001b[0m \u001b[0mplt\u001b[0m\u001b[0;34m.\u001b[0m\u001b[0mplot\u001b[0m\u001b[0;34m(\u001b[0m\u001b[0mhistory\u001b[0m\u001b[0;34m.\u001b[0m\u001b[0mhistory\u001b[0m\u001b[0;34m[\u001b[0m\u001b[0;34m'val_accuracy'\u001b[0m\u001b[0;34m]\u001b[0m\u001b[0;34m)\u001b[0m\u001b[0;34m\u001b[0m\u001b[0;34m\u001b[0m\u001b[0m\n\u001b[1;32m     20\u001b[0m \u001b[0mplt\u001b[0m\u001b[0;34m.\u001b[0m\u001b[0mtitle\u001b[0m\u001b[0;34m(\u001b[0m\u001b[0;34m'Model accuracy'\u001b[0m\u001b[0;34m)\u001b[0m\u001b[0;34m\u001b[0m\u001b[0;34m\u001b[0m\u001b[0m\n",
            "\u001b[0;31mKeyError\u001b[0m: 'accuracy'"
          ]
        }
      ]
    },
    {
      "cell_type": "code",
      "source": [],
      "metadata": {
        "id": "cADg2R-q78K5"
      },
      "execution_count": null,
      "outputs": []
    }
  ]
}