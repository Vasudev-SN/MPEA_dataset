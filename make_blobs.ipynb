{
  "nbformat": 4,
  "nbformat_minor": 0,
  "metadata": {
    "colab": {
      "provenance": [],
      "authorship_tag": "ABX9TyNwYcKa7w6Tt9gaeZ0shUnF",
      "include_colab_link": true
    },
    "kernelspec": {
      "name": "python3",
      "display_name": "Python 3"
    },
    "language_info": {
      "name": "python"
    }
  },
  "cells": [
    {
      "cell_type": "markdown",
      "metadata": {
        "id": "view-in-github",
        "colab_type": "text"
      },
      "source": [
        "<a href=\"https://colab.research.google.com/github/Vasudev-SN/MPEA_dataset/blob/master/make_blobs.ipynb\" target=\"_parent\"><img src=\"https://colab.research.google.com/assets/colab-badge.svg\" alt=\"Open In Colab\"/></a>"
      ]
    },
    {
      "cell_type": "code",
      "execution_count": null,
      "metadata": {
        "id": "X4SzE4HyNgkQ"
      },
      "outputs": [],
      "source": [
        "import numpy as np\n",
        "import pandas as pd\n",
        "import matplotlib.pyplot as plt\n",
        "import math\n",
        "import keras"
      ]
    },
    {
      "cell_type": "code",
      "source": [
        "from sklearn.datasets import make_blobs"
      ],
      "metadata": {
        "id": "IQaI3cUMNpRz"
      },
      "execution_count": 1,
      "outputs": []
    },
    {
      "cell_type": "code",
      "source": [
        "x,y=make_blobs(n_samples=600, cluster_std=0.4)"
      ],
      "metadata": {
        "id": "C7cZIemONyIl"
      },
      "execution_count": 2,
      "outputs": []
    },
    {
      "cell_type": "code",
      "source": [
        "x"
      ],
      "metadata": {
        "colab": {
          "base_uri": "https://localhost:8080/"
        },
        "id": "crzkwKXgOFLT",
        "outputId": "a1f9acd1-b05f-4139-9311-b39ec1d79331"
      },
      "execution_count": 3,
      "outputs": [
        {
          "output_type": "execute_result",
          "data": {
            "text/plain": [
              "array([[ 5.62161825, -1.39134387],\n",
              "       [ 8.70577323, -0.85175496],\n",
              "       [ 9.28533829, -0.7280077 ],\n",
              "       ...,\n",
              "       [ 6.19770426, -1.26508668],\n",
              "       [ 5.6441781 , -3.33763034],\n",
              "       [ 8.77824282, -0.04486626]])"
            ]
          },
          "metadata": {},
          "execution_count": 3
        }
      ]
    },
    {
      "cell_type": "code",
      "source": [
        "y"
      ],
      "metadata": {
        "colab": {
          "base_uri": "https://localhost:8080/"
        },
        "id": "QsUfnkQ3OFrf",
        "outputId": "4ff867fb-a190-4182-bb33-5c958483a2f3"
      },
      "execution_count": 4,
      "outputs": [
        {
          "output_type": "execute_result",
          "data": {
            "text/plain": [
              "array([1, 2, 2, 0, 2, 2, 0, 1, 0, 0, 1, 1, 2, 2, 0, 0, 1, 2, 0, 1, 1, 0,\n",
              "       1, 1, 0, 2, 0, 0, 0, 1, 2, 2, 0, 2, 2, 2, 2, 1, 0, 2, 0, 0, 2, 2,\n",
              "       0, 1, 1, 0, 1, 2, 0, 0, 1, 0, 2, 0, 1, 0, 1, 0, 1, 1, 1, 1, 0, 0,\n",
              "       1, 0, 1, 1, 0, 0, 0, 2, 2, 1, 0, 0, 2, 2, 0, 2, 2, 1, 0, 0, 2, 2,\n",
              "       1, 0, 0, 0, 0, 1, 0, 1, 2, 1, 0, 0, 2, 0, 0, 1, 1, 2, 2, 0, 2, 0,\n",
              "       1, 2, 2, 0, 0, 1, 0, 2, 0, 2, 1, 2, 1, 1, 1, 1, 0, 2, 0, 0, 2, 2,\n",
              "       0, 1, 2, 0, 2, 2, 1, 0, 0, 0, 0, 1, 0, 0, 1, 1, 1, 2, 2, 1, 1, 1,\n",
              "       1, 0, 1, 0, 2, 2, 0, 0, 2, 2, 1, 2, 1, 1, 0, 0, 1, 0, 0, 2, 1, 2,\n",
              "       2, 1, 0, 1, 2, 2, 0, 1, 0, 2, 0, 1, 2, 1, 1, 0, 2, 2, 0, 2, 0, 1,\n",
              "       2, 1, 2, 2, 1, 0, 1, 2, 0, 0, 1, 2, 2, 0, 0, 1, 0, 0, 2, 2, 2, 2,\n",
              "       1, 1, 1, 1, 0, 2, 1, 0, 1, 0, 0, 2, 0, 2, 1, 0, 0, 0, 0, 0, 0, 0,\n",
              "       1, 0, 2, 1, 1, 0, 0, 1, 2, 2, 0, 1, 2, 0, 2, 0, 1, 2, 0, 0, 2, 2,\n",
              "       1, 1, 0, 2, 1, 2, 2, 0, 1, 2, 2, 1, 2, 0, 1, 0, 2, 1, 1, 2, 1, 2,\n",
              "       1, 1, 1, 2, 1, 2, 0, 0, 1, 1, 0, 1, 0, 1, 1, 1, 1, 2, 0, 0, 1, 2,\n",
              "       1, 2, 2, 2, 1, 0, 0, 0, 1, 2, 1, 2, 2, 2, 2, 1, 2, 2, 1, 0, 1, 0,\n",
              "       2, 2, 2, 0, 1, 1, 1, 1, 0, 2, 1, 0, 2, 0, 0, 0, 1, 0, 1, 1, 2, 0,\n",
              "       1, 1, 0, 0, 2, 1, 1, 0, 1, 1, 1, 2, 1, 2, 1, 2, 1, 1, 1, 2, 2, 0,\n",
              "       0, 2, 0, 2, 2, 0, 2, 2, 0, 1, 2, 0, 1, 0, 0, 2, 2, 0, 1, 0, 0, 0,\n",
              "       1, 1, 1, 1, 1, 0, 1, 2, 2, 0, 0, 0, 1, 1, 0, 1, 1, 1, 2, 0, 2, 2,\n",
              "       1, 1, 2, 0, 0, 0, 0, 1, 1, 2, 0, 1, 2, 2, 2, 1, 0, 0, 1, 1, 0, 2,\n",
              "       0, 2, 1, 0, 2, 1, 1, 2, 2, 0, 2, 1, 1, 1, 0, 1, 1, 1, 2, 0, 0, 2,\n",
              "       1, 2, 0, 2, 2, 1, 1, 2, 2, 1, 0, 0, 2, 0, 2, 0, 2, 2, 0, 0, 2, 1,\n",
              "       2, 2, 1, 1, 2, 1, 1, 1, 1, 0, 2, 0, 2, 1, 2, 2, 2, 1, 1, 2, 0, 0,\n",
              "       1, 0, 0, 2, 2, 1, 2, 2, 0, 0, 2, 0, 0, 2, 0, 2, 2, 0, 2, 1, 0, 2,\n",
              "       1, 1, 0, 1, 2, 1, 0, 1, 1, 1, 1, 1, 1, 2, 2, 1, 1, 0, 1, 1, 2, 1,\n",
              "       2, 2, 2, 2, 1, 2, 0, 0, 1, 2, 0, 0, 2, 1, 2, 1, 2, 0, 1, 2, 0, 2,\n",
              "       1, 0, 2, 0, 0, 2, 2, 0, 0, 2, 2, 2, 2, 0, 2, 2, 0, 1, 0, 2, 2, 1,\n",
              "       2, 0, 2, 1, 0, 2])"
            ]
          },
          "metadata": {},
          "execution_count": 4
        }
      ]
    },
    {
      "cell_type": "code",
      "source": [
        "import matplotlib.pyplot as plt\n"
      ],
      "metadata": {
        "id": "oZsIsLBcOKLh"
      },
      "execution_count": 6,
      "outputs": []
    },
    {
      "cell_type": "code",
      "source": [
        "plt.plot(x,y);"
      ],
      "metadata": {
        "colab": {
          "base_uri": "https://localhost:8080/",
          "height": 265
        },
        "id": "9Ni9DmWkOF7X",
        "outputId": "51415b3c-2e72-4296-de78-fdc86b53173d"
      },
      "execution_count": 10,
      "outputs": [
        {
          "output_type": "display_data",
          "data": {
            "text/plain": [
              "<Figure size 432x288 with 1 Axes>"
            ],
            "image/png": "[encoded data removed]"
          },
          "metadata": {
            "needs_background": "light"
          }
        }
      ]
    },
    {
      "cell_type": "code",
      "source": [
        "from sklearn.cluster import KMeans"
      ],
      "metadata": {
        "id": "6XIRMYAxOIRy"
      },
      "execution_count": 11,
      "outputs": []
    },
    {
      "cell_type": "code",
      "source": [
        "wcss=[]\n",
        "for i in range(1,21):\n",
        "  km=KMeans(n_clusters=i)\n",
        "  km.fit_predict(x)\n",
        "  wcss.append(km.inertia_)"
      ],
      "metadata": {
        "colab": {
          "base_uri": "https://localhost:8080/"
        },
        "id": "5FrTpdLBObBG",
        "outputId": "023d7dbe-85f5-4bd8-fa22-cb6e99a34f6c"
      },
      "execution_count": 12,
      "outputs": [
        {
          "output_type": "stream",
          "name": "stderr",
          "text": [
            "/usr/local/lib/python3.9/dist-packages/sklearn/cluster/_kmeans.py:870: FutureWarning: The default value of `n_init` will change from 10 to 'auto' in 1.4. Set the value of `n_init` explicitly to suppress the warning\n",
            "  warnings.warn(\n",
            "/usr/local/lib/python3.9/dist-packages/sklearn/cluster/_kmeans.py:870: FutureWarning: The default value of `n_init` will change from 10 to 'auto' in 1.4. Set the value of `n_init` explicitly to suppress the warning\n",
            "  warnings.warn(\n",
            "/usr/local/lib/python3.9/dist-packages/sklearn/cluster/_kmeans.py:870: FutureWarning: The default value of `n_init` will change from 10 to 'auto' in 1.4. Set the value of `n_init` explicitly to suppress the warning\n",
            "  warnings.warn(\n",
            "/usr/local/lib/python3.9/dist-packages/sklearn/cluster/_kmeans.py:870: FutureWarning: The default value of `n_init` will change from 10 to 'auto' in 1.4. Set the value of `n_init` explicitly to suppress the warning\n",
            "  warnings.warn(\n",
            "/usr/local/lib/python3.9/dist-packages/sklearn/cluster/_kmeans.py:870: FutureWarning: The default value of `n_init` will change from 10 to 'auto' in 1.4. Set the value of `n_init` explicitly to suppress the warning\n",
            "  warnings.warn(\n",
            "/usr/local/lib/python3.9/dist-packages/sklearn/cluster/_kmeans.py:870: FutureWarning: The default value of `n_init` will change from 10 to 'auto' in 1.4. Set the value of `n_init` explicitly to suppress the warning\n",
            "  warnings.warn(\n",
            "/usr/local/lib/python3.9/dist-packages/sklearn/cluster/_kmeans.py:870: FutureWarning: The default value of `n_init` will change from 10 to 'auto' in 1.4. Set the value of `n_init` explicitly to suppress the warning\n",
            "  warnings.warn(\n",
            "/usr/local/lib/python3.9/dist-packages/sklearn/cluster/_kmeans.py:870: FutureWarning: The default value of `n_init` will change from 10 to 'auto' in 1.4. Set the value of `n_init` explicitly to suppress the warning\n",
            "  warnings.warn(\n",
            "/usr/local/lib/python3.9/dist-packages/sklearn/cluster/_kmeans.py:870: FutureWarning: The default value of `n_init` will change from 10 to 'auto' in 1.4. Set the value of `n_init` explicitly to suppress the warning\n",
            "  warnings.warn(\n",
            "/usr/local/lib/python3.9/dist-packages/sklearn/cluster/_kmeans.py:870: FutureWarning: The default value of `n_init` will change from 10 to 'auto' in 1.4. Set the value of `n_init` explicitly to suppress the warning\n",
            "  warnings.warn(\n",
            "/usr/local/lib/python3.9/dist-packages/sklearn/cluster/_kmeans.py:870: FutureWarning: The default value of `n_init` will change from 10 to 'auto' in 1.4. Set the value of `n_init` explicitly to suppress the warning\n",
            "  warnings.warn(\n",
            "/usr/local/lib/python3.9/dist-packages/sklearn/cluster/_kmeans.py:870: FutureWarning: The default value of `n_init` will change from 10 to 'auto' in 1.4. Set the value of `n_init` explicitly to suppress the warning\n",
            "  warnings.warn(\n",
            "/usr/local/lib/python3.9/dist-packages/sklearn/cluster/_kmeans.py:870: FutureWarning: The default value of `n_init` will change from 10 to 'auto' in 1.4. Set the value of `n_init` explicitly to suppress the warning\n",
            "  warnings.warn(\n",
            "/usr/local/lib/python3.9/dist-packages/sklearn/cluster/_kmeans.py:870: FutureWarning: The default value of `n_init` will change from 10 to 'auto' in 1.4. Set the value of `n_init` explicitly to suppress the warning\n",
            "  warnings.warn(\n",
            "/usr/local/lib/python3.9/dist-packages/sklearn/cluster/_kmeans.py:870: FutureWarning: The default value of `n_init` will change from 10 to 'auto' in 1.4. Set the value of `n_init` explicitly to suppress the warning\n",
            "  warnings.warn(\n",
            "/usr/local/lib/python3.9/dist-packages/sklearn/cluster/_kmeans.py:870: FutureWarning: The default value of `n_init` will change from 10 to 'auto' in 1.4. Set the value of `n_init` explicitly to suppress the warning\n",
            "  warnings.warn(\n",
            "/usr/local/lib/python3.9/dist-packages/sklearn/cluster/_kmeans.py:870: FutureWarning: The default value of `n_init` will change from 10 to 'auto' in 1.4. Set the value of `n_init` explicitly to suppress the warning\n",
            "  warnings.warn(\n",
            "/usr/local/lib/python3.9/dist-packages/sklearn/cluster/_kmeans.py:870: FutureWarning: The default value of `n_init` will change from 10 to 'auto' in 1.4. Set the value of `n_init` explicitly to suppress the warning\n",
            "  warnings.warn(\n",
            "/usr/local/lib/python3.9/dist-packages/sklearn/cluster/_kmeans.py:870: FutureWarning: The default value of `n_init` will change from 10 to 'auto' in 1.4. Set the value of `n_init` explicitly to suppress the warning\n",
            "  warnings.warn(\n",
            "/usr/local/lib/python3.9/dist-packages/sklearn/cluster/_kmeans.py:870: FutureWarning: The default value of `n_init` will change from 10 to 'auto' in 1.4. Set the value of `n_init` explicitly to suppress the warning\n",
            "  warnings.warn(\n"
          ]
        }
      ]
    },
    {
      "cell_type": "code",
      "source": [
        "wcss"
      ],
      "metadata": {
        "colab": {
          "base_uri": "https://localhost:8080/"
        },
        "id": "xTGhJ3wFOtAU",
        "outputId": "28f53bbf-c796-4d3d-c575-71a1e0704da3"
      },
      "execution_count": 13,
      "outputs": [
        {
          "output_type": "execute_result",
          "data": {
            "text/plain": [
              "[2772.1071247915006,\n",
              " 517.1612462856133,\n",
              " 186.0353944983799,\n",
              " 160.08541846635524,\n",
              " 136.87846225731914,\n",
              " 116.25678325243766,\n",
              " 103.88696600365357,\n",
              " 91.57218733246535,\n",
              " 79.56831776195409,\n",
              " 72.57197542110065,\n",
              " 65.62022527207358,\n",
              " 61.74668547853136,\n",
              " 56.61994605648461,\n",
              " 52.10267219391734,\n",
              " 48.982196445367435,\n",
              " 45.80192569974277,\n",
              " 43.61380255928145,\n",
              " 40.933223959364526,\n",
              " 39.46753624818931,\n",
              " 37.563421158629495]"
            ]
          },
          "metadata": {},
          "execution_count": 13
        }
      ]
    },
    {
      "cell_type": "code",
      "source": [
        "plt.plot(range(1,21),wcss,color='red');\n",
        "plt.xlabel('clusters')\n",
        "plt.ylabel('wcss')\n",
        "plt.title('Elbow Method')"
      ],
      "metadata": {
        "colab": {
          "base_uri": "https://localhost:8080/",
          "height": 312
        },
        "id": "8eJ0DmJLOvWt",
        "outputId": "44e30bc8-cfe9-4528-e303-78ea0a58f065"
      },
      "execution_count": 14,
      "outputs": [
        {
          "output_type": "execute_result",
          "data": {
            "text/plain": [
              "Text(0.5, 1.0, 'Elbow Method')"
            ]
          },
          "metadata": {},
          "execution_count": 14
        },
        {
          "output_type": "display_data",
          "data": {
            "text/plain": [
              "<Figure size 432x288 with 1 Axes>"
            ],
            "image/png": "[encoded data removed]"
          },
          "metadata": {
            "needs_background": "light"
          }
        }
      ]
    },
    {
      "cell_type": "code",
      "source": [
        "from sklearn.cluster import DBSCAN"
      ],
      "metadata": {
        "id": "fd81WRD5PA0Z"
      },
      "execution_count": 15,
      "outputs": []
    },
    {
      "cell_type": "code",
      "source": [
        "db=DBSCAN(eps=0.5,min_samples=20,metric=\"euclidean\")"
      ],
      "metadata": {
        "id": "J_M-ec9yPGOF"
      },
      "execution_count": 16,
      "outputs": []
    },
    {
      "cell_type": "code",
      "source": [
        "db.fit_predict(x)"
      ],
      "metadata": {
        "colab": {
          "base_uri": "https://localhost:8080/"
        },
        "id": "Q0nwEIdzPWt2",
        "outputId": "3404b8d7-d553-43b2-ef05-d6973658beaf"
      },
      "execution_count": 17,
      "outputs": [
        {
          "output_type": "execute_result",
          "data": {
            "text/plain": [
              "array([ 0,  1,  1,  0,  1,  1,  0,  0,  0,  0,  0,  0,  1,  1,  0,  0,  0,\n",
              "        1,  0,  0,  0,  0,  0,  0,  0,  1,  0,  0,  0, -1,  1,  1,  0,  1,\n",
              "        1,  1,  1,  0,  0,  1,  0,  0,  1,  1,  0,  0,  0,  0,  0,  1,  0,\n",
              "        0,  0,  0,  1,  0,  0,  0,  0,  0,  0,  0,  0,  0,  0,  0,  0,  0,\n",
              "        0,  0,  0,  0,  0,  1,  1,  0,  0,  0,  1,  1,  0,  1,  1,  0,  0,\n",
              "        0,  1,  1,  0,  0,  0,  0,  0,  0,  0,  0,  1,  0,  0,  0,  1,  0,\n",
              "        0,  0,  0,  1,  1,  0,  1,  0,  0,  1,  1,  0,  0,  0,  0,  1,  0,\n",
              "        1,  0,  1,  0,  0,  0,  0,  0,  1,  0,  0,  1,  1,  0,  0,  1,  0,\n",
              "        1, -1,  0,  0,  0,  0,  0,  0,  0,  0,  0,  0,  0,  1,  1,  0,  0,\n",
              "        0,  0,  0,  0,  0,  1,  1,  0,  0,  1,  1,  0,  1,  0,  0,  0,  0,\n",
              "        0,  0,  0,  1,  0,  1,  1,  0,  0,  0,  1,  1,  0,  0,  0,  1,  0,\n",
              "        0,  1,  0,  0,  0,  1,  1,  0,  1,  0,  0,  1,  0,  1,  1,  0,  0,\n",
              "        0,  1,  0,  0,  0,  1,  1,  0,  0,  0,  0,  0,  1,  1,  1,  1,  0,\n",
              "        0,  0,  0,  0,  1,  0,  0,  0,  0,  0,  1,  0,  1,  0,  0,  0,  0,\n",
              "        0,  0,  0,  0,  0,  0,  1,  0,  0,  0,  0,  0,  1,  1,  0,  0,  1,\n",
              "        0,  1,  0,  0,  1,  0,  0,  1,  1,  0,  0,  0,  1,  0,  1,  1,  0,\n",
              "        0,  1,  1,  0,  1,  0,  0,  0,  1,  0,  0,  1,  0,  1,  0,  0,  0,\n",
              "        1,  0,  1,  0,  0,  0,  0,  0,  0,  0,  0,  0,  0,  0,  1,  0,  0,\n",
              "        0, -1,  0,  1,  1,  1,  0,  0,  0,  0,  0,  1,  0,  1,  1,  1,  1,\n",
              "        0,  1,  1,  0,  0,  0,  0,  1,  1,  1,  0,  0,  0,  0,  0,  0,  1,\n",
              "        0,  0,  1,  0,  0,  0,  0,  0,  0,  0,  1,  0,  0,  0,  0,  0,  1,\n",
              "        0,  0,  0,  0,  0,  0,  1,  0,  1,  0,  1,  0,  0,  0,  1,  1,  0,\n",
              "        0,  1,  0,  1,  1,  0,  1,  1,  0,  0,  1,  0,  0,  0,  0,  1,  1,\n",
              "        0,  0,  0,  0,  0,  0,  0,  0,  0,  0,  0,  0,  1,  1,  0,  0,  0,\n",
              "        0,  0,  0,  0,  0,  0,  1,  0,  1,  1,  0,  0,  1,  0,  0,  0,  0,\n",
              "        0,  0,  1,  0,  0,  1,  1,  1,  0,  0,  0,  0,  0,  0,  1,  0,  1,\n",
              "        0,  0,  1,  0,  0,  1,  1,  0,  1,  0,  0,  0,  0,  0,  0,  0,  1,\n",
              "        0,  0,  1,  0,  1,  0,  1,  1,  0,  0,  1,  1,  0,  0,  0,  1,  0,\n",
              "        1,  0,  1,  1,  0,  0,  1,  0,  1,  1,  0,  0,  1,  0,  0,  0,  0,\n",
              "        0,  1,  0,  1,  0,  1,  1,  1,  0,  0,  1,  0,  0,  0,  0,  0,  1,\n",
              "        1,  0,  1,  1,  0,  0,  1,  0,  0,  1,  0,  1,  1,  0,  1,  0,  0,\n",
              "        1,  0,  0,  0,  0,  1,  0,  0,  0,  0,  0,  0,  0,  0,  1,  1,  0,\n",
              "        0,  0,  0,  0,  1,  0,  1,  1,  1,  1,  0,  1,  0,  0,  0,  1,  0,\n",
              "        0,  1,  0,  1,  0,  1,  0,  0,  1,  0,  1,  0,  0,  1,  0,  0,  1,\n",
              "        1,  0,  0,  1,  1,  1,  1,  0,  1,  1,  0,  0,  0,  1,  1,  0,  1,\n",
              "        0,  1,  0,  0,  1])"
            ]
          },
          "metadata": {},
          "execution_count": 17
        }
      ]
    },
    {
      "cell_type": "code",
      "source": [
        "import seaborn as sns"
      ],
      "metadata": {
        "id": "di-zIxg9PZsK"
      },
      "execution_count": 21,
      "outputs": []
    },
    {
      "cell_type": "code",
      "source": [
        "sns.heatmap(x)"
      ],
      "metadata": {
        "colab": {
          "base_uri": "https://localhost:8080/",
          "height": 287
        },
        "id": "FDB6bmr7Pcgp",
        "outputId": "aa2e1c04-1238-49fe-ff52-7811da775741"
      },
      "execution_count": 22,
      "outputs": [
        {
          "output_type": "execute_result",
          "data": {
            "text/plain": [
              "<Axes: >"
            ]
          },
          "metadata": {},
          "execution_count": 22
        },
        {
          "output_type": "display_data",
          "data": {
            "text/plain": [
              "<Figure size 432x288 with 2 Axes>"
            ],
            "image/png": "[encoded data removed]"
          },
          "metadata": {
            "needs_background": "light"
          }
        }
      ]
    },
    {
      "cell_type": "code",
      "source": [
        "sns.barplot(x)"
      ],
      "metadata": {
        "colab": {
          "base_uri": "https://localhost:8080/",
          "height": 282
        },
        "id": "2gcS0cOXPnUI",
        "outputId": "18f7a435-0de2-4d70-c36d-d7774a8fc2b3"
      },
      "execution_count": 24,
      "outputs": [
        {
          "output_type": "execute_result",
          "data": {
            "text/plain": [
              "<Axes: >"
            ]
          },
          "metadata": {},
          "execution_count": 24
        },
        {
          "output_type": "display_data",
          "data": {
            "text/plain": [
              "<Figure size 432x288 with 1 Axes>"
            ],
            "image/png": "[encoded data removed]"
          },
          "metadata": {
            "needs_background": "light"
          }
        }
      ]
    },
    {
      "cell_type": "code",
      "source": [
        "from sklearn.model_selection  import train_test_split"
      ],
      "metadata": {
        "id": "j4TGn07gPtG0"
      },
      "execution_count": 25,
      "outputs": []
    },
    {
      "cell_type": "code",
      "source": [
        "x_train, x_test, y_train, y_test=train_test_split(x,y,train_size=0.2,random_state=42)"
      ],
      "metadata": {
        "id": "ITbNS3MpQAD-"
      },
      "execution_count": 26,
      "outputs": []
    },
    {
      "cell_type": "code",
      "source": [],
      "metadata": {
        "id": "0svcAA3fQY-i"
      },
      "execution_count": 26,
      "outputs": []
    }
  ]
}