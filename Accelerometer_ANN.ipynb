{
  "nbformat": 4,
  "nbformat_minor": 0,
  "metadata": {
    "colab": {
      "provenance": [],
      "authorship_tag": "ABX9TyM6Dx0vufIi33gId05k9wLA",
      "include_colab_link": true
    },
    "kernelspec": {
      "name": "python3",
      "display_name": "Python 3"
    },
    "language_info": {
      "name": "python"
    }
  },
  "cells": [
    {
      "cell_type": "markdown",
      "metadata": {
        "id": "view-in-github",
        "colab_type": "text"
      },
      "source": [
        "<a href=\"https://colab.research.google.com/github/Vasudev-SN/MPEA_dataset/blob/master/Accelerometer_ANN.ipynb\" target=\"_parent\"><img src=\"https://colab.research.google.com/assets/colab-badge.svg\" alt=\"Open In Colab\"/></a>"
      ]
    },
    {
      "cell_type": "code",
      "execution_count": 1,
      "metadata": {
        "id": "rd1pPZGMz5oP"
      },
      "outputs": [],
      "source": [
        "import numpy as np\n",
        "import pandas as pd\n",
        "import matplotlib.pyplot as plt"
      ]
    },
    {
      "cell_type": "code",
      "source": [
        "data=pd.read_csv('/content/accelerometer.csv')"
      ],
      "metadata": {
        "id": "NAiF8Qab0AlD"
      },
      "execution_count": 3,
      "outputs": []
    },
    {
      "cell_type": "code",
      "source": [
        "df=data.values"
      ],
      "metadata": {
        "id": "tTBaoFc20Mk6"
      },
      "execution_count": 4,
      "outputs": []
    },
    {
      "cell_type": "code",
      "source": [
        "df"
      ],
      "metadata": {
        "colab": {
          "base_uri": "https://localhost:8080/"
        },
        "id": "PIo5Oe6w0Tit",
        "outputId": "2703a5bc-38c0-4c91-8f2e-7b48bd7b8223"
      },
      "execution_count": 5,
      "outputs": [
        {
          "output_type": "execute_result",
          "data": {
            "text/plain": [
              "array([[ 1.000e+00,  2.000e+01,  1.004e+00,  9.000e-02, -1.250e-01],\n",
              "       [ 1.000e+00,  2.000e+01,  1.004e+00, -4.300e-02, -1.250e-01],\n",
              "       [ 1.000e+00,  2.000e+01,  9.690e-01,  9.000e-02, -1.210e-01],\n",
              "       ...,\n",
              "       [ 3.000e+00,  1.000e+02,  1.156e+00, -9.400e-02, -2.270e-01],\n",
              "       [ 3.000e+00,  1.000e+02,  9.340e-01,  2.030e-01, -1.720e-01],\n",
              "       [ 3.000e+00,  1.000e+02,  1.199e+00, -1.760e-01,  1.090e-01]])"
            ]
          },
          "metadata": {},
          "execution_count": 5
        }
      ]
    },
    {
      "cell_type": "code",
      "source": [
        "data"
      ],
      "metadata": {
        "colab": {
          "base_uri": "https://localhost:8080/",
          "height": 687
        },
        "id": "iyYbbPRw0UwK",
        "outputId": "3f4a7dad-e387-4864-cc40-0ed085f9dce8"
      },
      "execution_count": 6,
      "outputs": [
        {
          "output_type": "execute_result",
          "data": {
            "text/plain": [
              "        wconfid  pctid      x      y      z\n",
              "0             1     20  1.004  0.090 -0.125\n",
              "1             1     20  1.004 -0.043 -0.125\n",
              "2             1     20  0.969  0.090 -0.121\n",
              "3             1     20  0.973 -0.012 -0.137\n",
              "4             1     20  1.000 -0.016 -0.121\n",
              "...         ...    ...    ...    ...    ...\n",
              "152995        3    100  1.051  0.090 -0.262\n",
              "152996        3    100  0.918  0.039 -0.129\n",
              "152997        3    100  1.156 -0.094 -0.227\n",
              "152998        3    100  0.934  0.203 -0.172\n",
              "152999        3    100  1.199 -0.176  0.109\n",
              "\n",
              "[153000 rows x 5 columns]"
            ],
            "text/html": [
              "\n",
              "  <div id=\"df-e0198f37-0edf-41fc-8373-e36e69cd3a89\">\n",
              "    <div class=\"colab-df-container\">\n",
              "      <div>\n",
              "<style scoped>\n",
              "    .dataframe tbody tr th:only-of-type {\n",
              "        vertical-align: middle;\n",
              "    }\n",
              "\n",
              "    .dataframe tbody tr th {\n",
              "        vertical-align: top;\n",
              "    }\n",
              "\n",
              "    .dataframe thead th {\n",
              "        text-align: right;\n",
              "    }\n",
              "</style>\n",
              "<table border=\"1\" class=\"dataframe\">\n",
              "  <thead>\n",
              "    <tr style=\"text-align: right;\">\n",
              "      <th></th>\n",
              "      <th>wconfid</th>\n",
              "      <th>pctid</th>\n",
              "      <th>x</th>\n",
              "      <th>y</th>\n",
              "      <th>z</th>\n",
              "    </tr>\n",
              "  </thead>\n",
              "  <tbody>\n",
              "    <tr>\n",
              "      <th>0</th>\n",
              "      <td>1</td>\n",
              "      <td>20</td>\n",
              "      <td>1.004</td>\n",
              "      <td>0.090</td>\n",
              "      <td>-0.125</td>\n",
              "    </tr>\n",
              "    <tr>\n",
              "      <th>1</th>\n",
              "      <td>1</td>\n",
              "      <td>20</td>\n",
              "      <td>1.004</td>\n",
              "      <td>-0.043</td>\n",
              "      <td>-0.125</td>\n",
              "    </tr>\n",
              "    <tr>\n",
              "      <th>2</th>\n",
              "      <td>1</td>\n",
              "      <td>20</td>\n",
              "      <td>0.969</td>\n",
              "      <td>0.090</td>\n",
              "      <td>-0.121</td>\n",
              "    </tr>\n",
              "    <tr>\n",
              "      <th>3</th>\n",
              "      <td>1</td>\n",
              "      <td>20</td>\n",
              "      <td>0.973</td>\n",
              "      <td>-0.012</td>\n",
              "      <td>-0.137</td>\n",
              "    </tr>\n",
              "    <tr>\n",
              "      <th>4</th>\n",
              "      <td>1</td>\n",
              "      <td>20</td>\n",
              "      <td>1.000</td>\n",
              "      <td>-0.016</td>\n",
              "      <td>-0.121</td>\n",
              "    </tr>\n",
              "    <tr>\n",
              "      <th>...</th>\n",
              "      <td>...</td>\n",
              "      <td>...</td>\n",
              "      <td>...</td>\n",
              "      <td>...</td>\n",
              "      <td>...</td>\n",
              "    </tr>\n",
              "    <tr>\n",
              "      <th>152995</th>\n",
              "      <td>3</td>\n",
              "      <td>100</td>\n",
              "      <td>1.051</td>\n",
              "      <td>0.090</td>\n",
              "      <td>-0.262</td>\n",
              "    </tr>\n",
              "    <tr>\n",
              "      <th>152996</th>\n",
              "      <td>3</td>\n",
              "      <td>100</td>\n",
              "      <td>0.918</td>\n",
              "      <td>0.039</td>\n",
              "      <td>-0.129</td>\n",
              "    </tr>\n",
              "    <tr>\n",
              "      <th>152997</th>\n",
              "      <td>3</td>\n",
              "      <td>100</td>\n",
              "      <td>1.156</td>\n",
              "      <td>-0.094</td>\n",
              "      <td>-0.227</td>\n",
              "    </tr>\n",
              "    <tr>\n",
              "      <th>152998</th>\n",
              "      <td>3</td>\n",
              "      <td>100</td>\n",
              "      <td>0.934</td>\n",
              "      <td>0.203</td>\n",
              "      <td>-0.172</td>\n",
              "    </tr>\n",
              "    <tr>\n",
              "      <th>152999</th>\n",
              "      <td>3</td>\n",
              "      <td>100</td>\n",
              "      <td>1.199</td>\n",
              "      <td>-0.176</td>\n",
              "      <td>0.109</td>\n",
              "    </tr>\n",
              "  </tbody>\n",
              "</table>\n",
              "<p>153000 rows × 5 columns</p>\n",
              "</div>\n",
              "      <button class=\"colab-df-convert\" onclick=\"convertToInteractive('df-e0198f37-0edf-41fc-8373-e36e69cd3a89')\"\n",
              "              title=\"Convert this dataframe to an interactive table.\"\n",
              "              style=\"display:none;\">\n",
              "        \n",
              "  <svg xmlns=\"http://www.w3.org/2000/svg\" height=\"24px\"viewBox=\"0 0 24 24\"\n",
              "       width=\"24px\">\n",
              "    <path d=\"M0 0h24v24H0V0z\" fill=\"none\"/>\n",
              "    <path d=\"M18.56 5.44l.94 2.06.94-2.06 2.06-.94-2.06-.94-.94-2.06-.94 2.06-2.06.94zm-11 1L8.5 8.5l.94-2.06 2.06-.94-2.06-.94L8.5 2.5l-.94 2.06-2.06.94zm10 10l.94 2.06.94-2.06 2.06-.94-2.06-.94-.94-2.06-.94 2.06-2.06.94z\"/><path d=\"M17.41 7.96l-1.37-1.37c-.4-.4-.92-.59-1.43-.59-.52 0-1.04.2-1.43.59L10.3 9.45l-7.72 7.72c-.78.78-.78 2.05 0 2.83L4 21.41c.39.39.9.59 1.41.59.51 0 1.02-.2 1.41-.59l7.78-7.78 2.81-2.81c.8-.78.8-2.07 0-2.86zM5.41 20L4 18.59l7.72-7.72 1.47 1.35L5.41 20z\"/>\n",
              "  </svg>\n",
              "      </button>\n",
              "      \n",
              "  <style>\n",
              "    .colab-df-container {\n",
              "      display:flex;\n",
              "      flex-wrap:wrap;\n",
              "      gap: 12px;\n",
              "    }\n",
              "\n",
              "    .colab-df-convert {\n",
              "      background-color: #E8F0FE;\n",
              "      border: none;\n",
              "      border-radius: 50%;\n",
              "      cursor: pointer;\n",
              "      display: none;\n",
              "      fill: #1967D2;\n",
              "      height: 32px;\n",
              "      padding: 0 0 0 0;\n",
              "      width: 32px;\n",
              "    }\n",
              "\n",
              "    .colab-df-convert:hover {\n",
              "      background-color: #E2EBFA;\n",
              "      box-shadow: 0px 1px 2px rgba(60, 64, 67, 0.3), 0px 1px 3px 1px rgba(60, 64, 67, 0.15);\n",
              "      fill: #174EA6;\n",
              "    }\n",
              "\n",
              "    [theme=dark] .colab-df-convert {\n",
              "      background-color: #3B4455;\n",
              "      fill: #D2E3FC;\n",
              "    }\n",
              "\n",
              "    [theme=dark] .colab-df-convert:hover {\n",
              "      background-color: #434B5C;\n",
              "      box-shadow: 0px 1px 3px 1px rgba(0, 0, 0, 0.15);\n",
              "      filter: drop-shadow(0px 1px 2px rgba(0, 0, 0, 0.3));\n",
              "      fill: #FFFFFF;\n",
              "    }\n",
              "  </style>\n",
              "\n",
              "      <script>\n",
              "        const buttonEl =\n",
              "          document.querySelector('#df-e0198f37-0edf-41fc-8373-e36e69cd3a89 button.colab-df-convert');\n",
              "        buttonEl.style.display =\n",
              "          google.colab.kernel.accessAllowed ? 'block' : 'none';\n",
              "\n",
              "        async function convertToInteractive(key) {\n",
              "          const element = document.querySelector('#df-e0198f37-0edf-41fc-8373-e36e69cd3a89');\n",
              "          const dataTable =\n",
              "            await google.colab.kernel.invokeFunction('convertToInteractive',\n",
              "                                                     [key], {});\n",
              "          if (!dataTable) return;\n",
              "\n",
              "          const docLinkHtml = 'Like what you see? Visit the ' +\n",
              "            '<a target=\"_blank\" href=https://colab.research.google.com/notebooks/data_table.ipynb>data table notebook</a>'\n",
              "            + ' to learn more about interactive tables.';\n",
              "          element.innerHTML = '';\n",
              "          dataTable['output_type'] = 'display_data';\n",
              "          await google.colab.output.renderOutput(dataTable, element);\n",
              "          const docLink = document.createElement('div');\n",
              "          docLink.innerHTML = docLinkHtml;\n",
              "          element.appendChild(docLink);\n",
              "        }\n",
              "      </script>\n",
              "    </div>\n",
              "  </div>\n",
              "  "
            ]
          },
          "metadata": {},
          "execution_count": 6
        },
        {
          "output_type": "stream",
          "name": "stdout",
          "text": [
            "Warning: total number of rows (153000) exceeds max_rows (20000). Limiting to first (20000) rows.\n"
          ]
        }
      ]
    },
    {
      "cell_type": "code",
      "source": [
        "x=data.values[:,2:4]\n"
      ],
      "metadata": {
        "id": "3BYBLgl40VvU"
      },
      "execution_count": 17,
      "outputs": []
    },
    {
      "cell_type": "code",
      "source": [
        "x"
      ],
      "metadata": {
        "colab": {
          "base_uri": "https://localhost:8080/"
        },
        "id": "DEJ5NSyC0jlV",
        "outputId": "e56ab928-586b-4f99-adef-a45b6d30f854"
      },
      "execution_count": 18,
      "outputs": [
        {
          "output_type": "execute_result",
          "data": {
            "text/plain": [
              "array([[ 1.004,  0.09 ],\n",
              "       [ 1.004, -0.043],\n",
              "       [ 0.969,  0.09 ],\n",
              "       ...,\n",
              "       [ 1.156, -0.094],\n",
              "       [ 0.934,  0.203],\n",
              "       [ 1.199, -0.176]])"
            ]
          },
          "metadata": {},
          "execution_count": 18
        }
      ]
    },
    {
      "cell_type": "code",
      "source": [
        "y=data.values[:,4]"
      ],
      "metadata": {
        "id": "Y-1cTfaG0nU0"
      },
      "execution_count": 19,
      "outputs": []
    },
    {
      "cell_type": "code",
      "source": [
        "\n",
        "\n",
        "y"
      ],
      "metadata": {
        "colab": {
          "base_uri": "https://localhost:8080/"
        },
        "id": "ozg7rdr30rrE",
        "outputId": "f823f96b-5d08-461e-92a4-0648466363a7"
      },
      "execution_count": 20,
      "outputs": [
        {
          "output_type": "execute_result",
          "data": {
            "text/plain": [
              "array([-0.125, -0.125, -0.121, ..., -0.227, -0.172,  0.109])"
            ]
          },
          "metadata": {},
          "execution_count": 20
        }
      ]
    },
    {
      "cell_type": "code",
      "source": [
        "from sklearn.cluster import KMeans"
      ],
      "metadata": {
        "id": "N4TV1Z3J0yrZ"
      },
      "execution_count": 21,
      "outputs": []
    },
    {
      "cell_type": "code",
      "source": [
        "from keras.models import Sequential\n",
        "from keras.layers import Dense"
      ],
      "metadata": {
        "id": "F-p1WsP21FCa"
      },
      "execution_count": 23,
      "outputs": []
    },
    {
      "cell_type": "code",
      "source": [
        "model = Sequential()\n",
        "model.add(Dense(2, input_shape=(2,), kernel_initializer='normal'))\n",
        "model.add(Dense(1, kernel_initializer='normal' ))"
      ],
      "metadata": {
        "id": "fOHc68ot1Suk"
      },
      "execution_count": 25,
      "outputs": []
    },
    {
      "cell_type": "code",
      "source": [
        "model.summary()"
      ],
      "metadata": {
        "colab": {
          "base_uri": "https://localhost:8080/"
        },
        "id": "ECKHmp7o2f-2",
        "outputId": "cc29b215-5707-4030-9e5c-051e06fe2efe"
      },
      "execution_count": 26,
      "outputs": [
        {
          "output_type": "stream",
          "name": "stdout",
          "text": [
            "Model: \"sequential_1\"\n",
            "_________________________________________________________________\n",
            " Layer (type)                Output Shape              Param #   \n",
            "=================================================================\n",
            " dense (Dense)               (None, 2)                 6         \n",
            "                                                                 \n",
            " dense_1 (Dense)             (None, 1)                 3         \n",
            "                                                                 \n",
            "=================================================================\n",
            "Total params: 9\n",
            "Trainable params: 9\n",
            "Non-trainable params: 0\n",
            "_________________________________________________________________\n"
          ]
        }
      ]
    },
    {
      "cell_type": "code",
      "source": [
        "model.compile(loss='mean_squared_error',optimizer='adam')"
      ],
      "metadata": {
        "id": "le76vvAb2uyR"
      },
      "execution_count": 27,
      "outputs": []
    },
    {
      "cell_type": "code",
      "source": [
        "model.fit(x,y,epochs=75,verbose=1)"
      ],
      "metadata": {
        "colab": {
          "base_uri": "https://localhost:8080/"
        },
        "id": "1vkfy4PC24GJ",
        "outputId": "5513f80b-85d5-4a1f-f04a-34567cfc1858"
      },
      "execution_count": 28,
      "outputs": [
        {
          "output_type": "stream",
          "name": "stdout",
          "text": [
            "Epoch 1/75\n",
            "4782/4782 [==============================] - 12s 2ms/step - loss: 0.2655\n",
            "Epoch 2/75\n",
            "4782/4782 [==============================] - 12s 3ms/step - loss: 0.2651\n",
            "Epoch 3/75\n",
            "4782/4782 [==============================] - 14s 3ms/step - loss: 0.2650\n",
            "Epoch 4/75\n",
            "4782/4782 [==============================] - 12s 3ms/step - loss: 0.2651\n",
            "Epoch 5/75\n",
            "4782/4782 [==============================] - 10s 2ms/step - loss: 0.2651\n",
            "Epoch 6/75\n",
            "4782/4782 [==============================] - 10s 2ms/step - loss: 0.2651\n",
            "Epoch 7/75\n",
            "4782/4782 [==============================] - 10s 2ms/step - loss: 0.2651\n",
            "Epoch 8/75\n",
            "4782/4782 [==============================] - 10s 2ms/step - loss: 0.2651\n",
            "Epoch 9/75\n",
            "4782/4782 [==============================] - 10s 2ms/step - loss: 0.2651\n",
            "Epoch 10/75\n",
            "4782/4782 [==============================] - 10s 2ms/step - loss: 0.2651\n",
            "Epoch 11/75\n",
            "4782/4782 [==============================] - 10s 2ms/step - loss: 0.2651\n",
            "Epoch 12/75\n",
            "4782/4782 [==============================] - 9s 2ms/step - loss: 0.2651\n",
            "Epoch 13/75\n",
            "4782/4782 [==============================] - 10s 2ms/step - loss: 0.2651\n",
            "Epoch 14/75\n",
            "4782/4782 [==============================] - 11s 2ms/step - loss: 0.2651\n",
            "Epoch 15/75\n",
            "4782/4782 [==============================] - 11s 2ms/step - loss: 0.2651\n",
            "Epoch 16/75\n",
            "4782/4782 [==============================] - 9s 2ms/step - loss: 0.2651\n",
            "Epoch 17/75\n",
            "4782/4782 [==============================] - 10s 2ms/step - loss: 0.2651\n",
            "Epoch 18/75\n",
            "4782/4782 [==============================] - 10s 2ms/step - loss: 0.2651\n",
            "Epoch 19/75\n",
            "4782/4782 [==============================] - 10s 2ms/step - loss: 0.2651\n",
            "Epoch 20/75\n",
            "4782/4782 [==============================] - 10s 2ms/step - loss: 0.2650\n",
            "Epoch 21/75\n",
            "4782/4782 [==============================] - 11s 2ms/step - loss: 0.2650\n",
            "Epoch 22/75\n",
            "4782/4782 [==============================] - 10s 2ms/step - loss: 0.2651\n",
            "Epoch 23/75\n",
            "4782/4782 [==============================] - 10s 2ms/step - loss: 0.2651\n",
            "Epoch 24/75\n",
            "4782/4782 [==============================] - 10s 2ms/step - loss: 0.2651\n",
            "Epoch 25/75\n",
            "4782/4782 [==============================] - 9s 2ms/step - loss: 0.2651\n",
            "Epoch 26/75\n",
            "4782/4782 [==============================] - 10s 2ms/step - loss: 0.2650\n",
            "Epoch 27/75\n",
            "4782/4782 [==============================] - 10s 2ms/step - loss: 0.2651\n",
            "Epoch 28/75\n",
            "4782/4782 [==============================] - 10s 2ms/step - loss: 0.2651\n",
            "Epoch 29/75\n",
            "4782/4782 [==============================] - 10s 2ms/step - loss: 0.2651\n",
            "Epoch 30/75\n",
            "4782/4782 [==============================] - 11s 2ms/step - loss: 0.2650\n",
            "Epoch 31/75\n",
            "4782/4782 [==============================] - 11s 2ms/step - loss: 0.2651\n",
            "Epoch 32/75\n",
            "4782/4782 [==============================] - 11s 2ms/step - loss: 0.2651\n",
            "Epoch 33/75\n",
            "4782/4782 [==============================] - 10s 2ms/step - loss: 0.2651\n",
            "Epoch 34/75\n",
            "4782/4782 [==============================] - 9s 2ms/step - loss: 0.2651\n",
            "Epoch 35/75\n",
            "4782/4782 [==============================] - 10s 2ms/step - loss: 0.2650\n",
            "Epoch 36/75\n",
            "4782/4782 [==============================] - 10s 2ms/step - loss: 0.2651\n",
            "Epoch 37/75\n",
            "4782/4782 [==============================] - 11s 2ms/step - loss: 0.2651\n",
            "Epoch 38/75\n",
            "4782/4782 [==============================] - 10s 2ms/step - loss: 0.2651\n",
            "Epoch 39/75\n",
            "4782/4782 [==============================] - 9s 2ms/step - loss: 0.2651\n",
            "Epoch 40/75\n",
            "4782/4782 [==============================] - 10s 2ms/step - loss: 0.2650\n",
            "Epoch 41/75\n",
            "4782/4782 [==============================] - 10s 2ms/step - loss: 0.2651\n",
            "Epoch 42/75\n",
            "4782/4782 [==============================] - 9s 2ms/step - loss: 0.2651\n",
            "Epoch 43/75\n",
            "4782/4782 [==============================] - 9s 2ms/step - loss: 0.2651\n",
            "Epoch 44/75\n",
            "4782/4782 [==============================] - 10s 2ms/step - loss: 0.2650\n",
            "Epoch 45/75\n",
            "4782/4782 [==============================] - 10s 2ms/step - loss: 0.2652\n",
            "Epoch 46/75\n",
            "4782/4782 [==============================] - 10s 2ms/step - loss: 0.2650\n",
            "Epoch 47/75\n",
            "4782/4782 [==============================] - 10s 2ms/step - loss: 0.2651\n",
            "Epoch 48/75\n",
            "4782/4782 [==============================] - 10s 2ms/step - loss: 0.2651\n",
            "Epoch 49/75\n",
            "4782/4782 [==============================] - 10s 2ms/step - loss: 0.2651\n",
            "Epoch 50/75\n",
            "4782/4782 [==============================] - 10s 2ms/step - loss: 0.2650\n",
            "Epoch 51/75\n",
            "4782/4782 [==============================] - 10s 2ms/step - loss: 0.2651\n",
            "Epoch 52/75\n",
            "4782/4782 [==============================] - 10s 2ms/step - loss: 0.2650\n",
            "Epoch 53/75\n",
            "4782/4782 [==============================] - 10s 2ms/step - loss: 0.2651\n",
            "Epoch 54/75\n",
            "4782/4782 [==============================] - 10s 2ms/step - loss: 0.2651\n",
            "Epoch 55/75\n",
            "4782/4782 [==============================] - 9s 2ms/step - loss: 0.2651\n",
            "Epoch 56/75\n",
            "4782/4782 [==============================] - 10s 2ms/step - loss: 0.2651\n",
            "Epoch 57/75\n",
            "4782/4782 [==============================] - 10s 2ms/step - loss: 0.2651\n",
            "Epoch 58/75\n",
            "4782/4782 [==============================] - 10s 2ms/step - loss: 0.2651\n",
            "Epoch 59/75\n",
            "4782/4782 [==============================] - 9s 2ms/step - loss: 0.2651\n",
            "Epoch 60/75\n",
            "4782/4782 [==============================] - 10s 2ms/step - loss: 0.2651\n",
            "Epoch 61/75\n",
            "4782/4782 [==============================] - 10s 2ms/step - loss: 0.2651\n",
            "Epoch 62/75\n",
            "4782/4782 [==============================] - 10s 2ms/step - loss: 0.2651\n",
            "Epoch 63/75\n",
            "4782/4782 [==============================] - 9s 2ms/step - loss: 0.2650\n",
            "Epoch 64/75\n",
            "4782/4782 [==============================] - 10s 2ms/step - loss: 0.2651\n",
            "Epoch 65/75\n",
            "4782/4782 [==============================] - 10s 2ms/step - loss: 0.2651\n",
            "Epoch 66/75\n",
            "4782/4782 [==============================] - 10s 2ms/step - loss: 0.2650\n",
            "Epoch 67/75\n",
            "4782/4782 [==============================] - 9s 2ms/step - loss: 0.2650\n",
            "Epoch 68/75\n",
            "4782/4782 [==============================] - 10s 2ms/step - loss: 0.2651\n",
            "Epoch 69/75\n",
            "4782/4782 [==============================] - 10s 2ms/step - loss: 0.2651\n",
            "Epoch 70/75\n",
            "4782/4782 [==============================] - 11s 2ms/step - loss: 0.2651\n",
            "Epoch 71/75\n",
            "4782/4782 [==============================] - 11s 2ms/step - loss: 0.2651\n",
            "Epoch 72/75\n",
            "4782/4782 [==============================] - 10s 2ms/step - loss: 0.2651\n",
            "Epoch 73/75\n",
            "4782/4782 [==============================] - 10s 2ms/step - loss: 0.2651\n",
            "Epoch 74/75\n",
            "4782/4782 [==============================] - 10s 2ms/step - loss: 0.2651\n",
            "Epoch 75/75\n",
            "4782/4782 [==============================] - 9s 2ms/step - loss: 0.2651\n"
          ]
        },
        {
          "output_type": "execute_result",
          "data": {
            "text/plain": [
              "<keras.callbacks.History at 0x7f689c57e5b0>"
            ]
          },
          "metadata": {},
          "execution_count": 28
        }
      ]
    },
    {
      "cell_type": "code",
      "source": [
        "y_pred=model.predict(x)"
      ],
      "metadata": {
        "colab": {
          "base_uri": "https://localhost:8080/"
        },
        "id": "t27ERJXR2_RD",
        "outputId": "27a89127-0c0c-4688-9307-0c0566b082eb"
      },
      "execution_count": 29,
      "outputs": [
        {
          "output_type": "stream",
          "name": "stdout",
          "text": [
            "4782/4782 [==============================] - 8s 2ms/step\n"
          ]
        }
      ]
    },
    {
      "cell_type": "code",
      "source": [
        "y_pred"
      ],
      "metadata": {
        "colab": {
          "base_uri": "https://localhost:8080/"
        },
        "id": "8yg0qLNa56LF",
        "outputId": "0796a25d-bfe0-404d-cd47-dca2c8b20567"
      },
      "execution_count": 30,
      "outputs": [
        {
          "output_type": "execute_result",
          "data": {
            "text/plain": [
              "array([[-0.12224804],\n",
              "       [-0.12078361],\n",
              "       [-0.12023665],\n",
              "       ...,\n",
              "       [-0.12895726],\n",
              "       [-0.11946946],\n",
              "       [-0.13052551]], dtype=float32)"
            ]
          },
          "metadata": {},
          "execution_count": 30
        }
      ]
    },
    {
      "cell_type": "code",
      "source": [
        "model.evaluate(x=x,y=y_pred)"
      ],
      "metadata": {
        "colab": {
          "base_uri": "https://localhost:8080/"
        },
        "id": "ONEkmyOp5-0L",
        "outputId": "88d1b1de-e637-4555-a428-64420eb45533"
      },
      "execution_count": 32,
      "outputs": [
        {
          "output_type": "stream",
          "name": "stdout",
          "text": [
            "4782/4782 [==============================] - 8s 2ms/step - loss: 0.0000e+00\n"
          ]
        },
        {
          "output_type": "execute_result",
          "data": {
            "text/plain": [
              "0.0"
            ]
          },
          "metadata": {},
          "execution_count": 32
        }
      ]
    },
    {
      "cell_type": "code",
      "source": [
        "plt.plot(y,y_pred)"
      ],
      "metadata": {
        "colab": {
          "base_uri": "https://localhost:8080/",
          "height": 282
        },
        "id": "7FrSw_DI6V1S",
        "outputId": "7a590de7-0950-4cde-d9af-bb53e4f97eee"
      },
      "execution_count": 34,
      "outputs": [
        {
          "output_type": "execute_result",
          "data": {
            "text/plain": [
              "[<matplotlib.lines.Line2D at 0x7f6894666040>]"
            ]
          },
          "metadata": {},
          "execution_count": 34
        },
        {
          "output_type": "display_data",
          "data": {
            "text/plain": [
              "<Figure size 432x288 with 1 Axes>"
            ],
            "image/png": "[encoded data removed]"
          },
          "metadata": {
            "needs_background": "light"
          }
        }
      ]
    },
    {
      "cell_type": "code",
      "source": [
        "import matplotlib.pyplot as plt\n",
        "from sklearn.model_selection import train_test_split\n",
        "\n",
        "# Assuming that the history variable contains the loss and accuracy data during training and validation\n",
        "X_train, X_test, y_train, y_test = train_test_split(x, y, test_size=0.2, random_state=42)\n",
        "history = model.fit(X_train, y_train, validation_data=(x, y), epochs=10)\n",
        "\n",
        "# Plot the training and validation loss\n",
        "plt.plot(history.history['loss'])\n",
        "plt.plot(history.history['val_loss'])\n",
        "plt.title('Model loss')\n",
        "plt.ylabel('Loss')\n",
        "plt.xlabel('Epoch')\n",
        "plt.legend(['Train', 'Validation'], loc='upper right')\n",
        "plt.show()\n",
        "\n",
        "# Plot the training and validation accuracy\n",
        "plt.plot(history.history['acc'])\n",
        "plt.plot(history.history['val_acc'])\n",
        "plt.title('Model accuracy')\n",
        "plt.ylabel('Accuracy')\n",
        "plt.xlabel('Epoch')\n",
        "plt.legend(['Train', 'Validation'], loc='lower right')\n",
        "plt.show()"
      ],
      "metadata": {
        "colab": {
          "base_uri": "https://localhost:8080/",
          "height": 1000
        },
        "id": "rxl1Bdh_6gge",
        "outputId": "9ee090a3-1a7a-4e07-f598-c56c15cfe5af"
      },
      "execution_count": 41,
      "outputs": [
        {
          "output_type": "stream",
          "name": "stdout",
          "text": [
            "Epoch 1/10\n",
            "3807/3825 [============================>.] - ETA: 0s - loss: 0.2651"
          ]
        },
        {
          "output_type": "error",
          "ename": "InvalidArgumentError",
          "evalue": "ignored",
          "traceback": [
            "\u001b[0;31m---------------------------------------------------------------------------\u001b[0m",
            "\u001b[0;31mInvalidArgumentError\u001b[0m                      Traceback (most recent call last)",
            "\u001b[0;32m<ipython-input-41-a40aee1d0f71>\u001b[0m in \u001b[0;36m<module>\u001b[0;34m\u001b[0m\n\u001b[1;32m      4\u001b[0m \u001b[0;31m# Assuming that the history variable contains the loss and accuracy data during training and validation\u001b[0m\u001b[0;34m\u001b[0m\u001b[0;34m\u001b[0m\u001b[0m\n\u001b[1;32m      5\u001b[0m \u001b[0mX_train\u001b[0m\u001b[0;34m,\u001b[0m \u001b[0mX_test\u001b[0m\u001b[0;34m,\u001b[0m \u001b[0my_train\u001b[0m\u001b[0;34m,\u001b[0m \u001b[0my_test\u001b[0m \u001b[0;34m=\u001b[0m \u001b[0mtrain_test_split\u001b[0m\u001b[0;34m(\u001b[0m\u001b[0mx\u001b[0m\u001b[0;34m,\u001b[0m \u001b[0my\u001b[0m\u001b[0;34m,\u001b[0m \u001b[0mtest_size\u001b[0m\u001b[0;34m=\u001b[0m\u001b[0;36m0.2\u001b[0m\u001b[0;34m,\u001b[0m \u001b[0mrandom_state\u001b[0m\u001b[0;34m=\u001b[0m\u001b[0;36m42\u001b[0m\u001b[0;34m)\u001b[0m\u001b[0;34m\u001b[0m\u001b[0;34m\u001b[0m\u001b[0m\n\u001b[0;32m----> 6\u001b[0;31m \u001b[0mhistory\u001b[0m \u001b[0;34m=\u001b[0m \u001b[0mmodel\u001b[0m\u001b[0;34m.\u001b[0m\u001b[0mfit\u001b[0m\u001b[0;34m(\u001b[0m\u001b[0mX_train\u001b[0m\u001b[0;34m,\u001b[0m \u001b[0my_train\u001b[0m\u001b[0;34m,\u001b[0m \u001b[0mvalidation_data\u001b[0m\u001b[0;34m=\u001b[0m\u001b[0;34m(\u001b[0m\u001b[0mx\u001b[0m\u001b[0;34m,\u001b[0m \u001b[0my\u001b[0m\u001b[0;34m)\u001b[0m\u001b[0;34m,\u001b[0m \u001b[0mepochs\u001b[0m\u001b[0;34m=\u001b[0m\u001b[0;36m10\u001b[0m\u001b[0;34m)\u001b[0m\u001b[0;34m\u001b[0m\u001b[0;34m\u001b[0m\u001b[0m\n\u001b[0m\u001b[1;32m      7\u001b[0m \u001b[0;34m\u001b[0m\u001b[0m\n\u001b[1;32m      8\u001b[0m \u001b[0;31m# Plot the training and validation loss\u001b[0m\u001b[0;34m\u001b[0m\u001b[0;34m\u001b[0m\u001b[0m\n",
            "\u001b[0;32m/usr/local/lib/python3.9/dist-packages/keras/utils/traceback_utils.py\u001b[0m in \u001b[0;36merror_handler\u001b[0;34m(*args, **kwargs)\u001b[0m\n\u001b[1;32m     68\u001b[0m             \u001b[0;31m# To get the full stack trace, call:\u001b[0m\u001b[0;34m\u001b[0m\u001b[0;34m\u001b[0m\u001b[0m\n\u001b[1;32m     69\u001b[0m             \u001b[0;31m# `tf.debugging.disable_traceback_filtering()`\u001b[0m\u001b[0;34m\u001b[0m\u001b[0;34m\u001b[0m\u001b[0m\n\u001b[0;32m---> 70\u001b[0;31m             \u001b[0;32mraise\u001b[0m \u001b[0me\u001b[0m\u001b[0;34m.\u001b[0m\u001b[0mwith_traceback\u001b[0m\u001b[0;34m(\u001b[0m\u001b[0mfiltered_tb\u001b[0m\u001b[0;34m)\u001b[0m \u001b[0;32mfrom\u001b[0m \u001b[0;32mNone\u001b[0m\u001b[0;34m\u001b[0m\u001b[0;34m\u001b[0m\u001b[0m\n\u001b[0m\u001b[1;32m     71\u001b[0m         \u001b[0;32mfinally\u001b[0m\u001b[0;34m:\u001b[0m\u001b[0;34m\u001b[0m\u001b[0;34m\u001b[0m\u001b[0m\n\u001b[1;32m     72\u001b[0m             \u001b[0;32mdel\u001b[0m \u001b[0mfiltered_tb\u001b[0m\u001b[0;34m\u001b[0m\u001b[0;34m\u001b[0m\u001b[0m\n",
            "\u001b[0;32m/usr/local/lib/python3.9/dist-packages/tensorflow/python/eager/execute.py\u001b[0m in \u001b[0;36mquick_execute\u001b[0;34m(op_name, num_outputs, inputs, attrs, ctx, name)\u001b[0m\n\u001b[1;32m     50\u001b[0m   \u001b[0;32mtry\u001b[0m\u001b[0;34m:\u001b[0m\u001b[0;34m\u001b[0m\u001b[0;34m\u001b[0m\u001b[0m\n\u001b[1;32m     51\u001b[0m     \u001b[0mctx\u001b[0m\u001b[0;34m.\u001b[0m\u001b[0mensure_initialized\u001b[0m\u001b[0;34m(\u001b[0m\u001b[0;34m)\u001b[0m\u001b[0;34m\u001b[0m\u001b[0;34m\u001b[0m\u001b[0m\n\u001b[0;32m---> 52\u001b[0;31m     tensors = pywrap_tfe.TFE_Py_Execute(ctx._handle, device_name, op_name,\n\u001b[0m\u001b[1;32m     53\u001b[0m                                         inputs, attrs, num_outputs)\n\u001b[1;32m     54\u001b[0m   \u001b[0;32mexcept\u001b[0m \u001b[0mcore\u001b[0m\u001b[0;34m.\u001b[0m\u001b[0m_NotOkStatusException\u001b[0m \u001b[0;32mas\u001b[0m \u001b[0me\u001b[0m\u001b[0;34m:\u001b[0m\u001b[0;34m\u001b[0m\u001b[0;34m\u001b[0m\u001b[0m\n",
            "\u001b[0;31mInvalidArgumentError\u001b[0m: Graph execution error:\n\nDetected at node 'sequential_1/dense/BiasAdd' defined at (most recent call last):\n    File \"/usr/lib/python3.9/runpy.py\", line 197, in _run_module_as_main\n      return _run_code(code, main_globals, None,\n    File \"/usr/lib/python3.9/runpy.py\", line 87, in _run_code\n      exec(code, run_globals)\n    File \"/usr/local/lib/python3.9/dist-packages/ipykernel_launcher.py\", line 16, in <module>\n      app.launch_new_instance()\n    File \"/usr/local/lib/python3.9/dist-packages/traitlets/config/application.py\", line 992, in launch_instance\n      app.start()\n    File \"/usr/local/lib/python3.9/dist-packages/ipykernel/kernelapp.py\", line 612, in start\n      self.io_loop.start()\n    File \"/usr/local/lib/python3.9/dist-packages/tornado/platform/asyncio.py\", line 215, in start\n      self.asyncio_loop.run_forever()\n    File \"/usr/lib/python3.9/asyncio/base_events.py\", line 601, in run_forever\n      self._run_once()\n    File \"/usr/lib/python3.9/asyncio/base_events.py\", line 1905, in _run_once\n      handle._run()\n    File \"/usr/lib/python3.9/asyncio/events.py\", line 80, in _run\n      self._context.run(self._callback, *self._args)\n    File \"/usr/local/lib/python3.9/dist-packages/tornado/ioloop.py\", line 687, in <lambda>\n      lambda f: self._run_callback(functools.partial(callback, future))\n    File \"/usr/local/lib/python3.9/dist-packages/tornado/ioloop.py\", line 740, in _run_callback\n      ret = callback()\n    File \"/usr/local/lib/python3.9/dist-packages/tornado/gen.py\", line 821, in inner\n      self.ctx_run(self.run)\n    File \"/usr/local/lib/python3.9/dist-packages/tornado/gen.py\", line 782, in run\n      yielded = self.gen.send(value)\n    File \"/usr/local/lib/python3.9/dist-packages/ipykernel/kernelbase.py\", line 365, in process_one\n      yield gen.maybe_future(dispatch(*args))\n    File \"/usr/local/lib/python3.9/dist-packages/tornado/gen.py\", line 234, in wrapper\n      yielded = ctx_run(next, result)\n    File \"/usr/local/lib/python3.9/dist-packages/ipykernel/kernelbase.py\", line 268, in dispatch_shell\n      yield gen.maybe_future(handler(stream, idents, msg))\n    File \"/usr/local/lib/python3.9/dist-packages/tornado/gen.py\", line 234, in wrapper\n      yielded = ctx_run(next, result)\n    File \"/usr/local/lib/python3.9/dist-packages/ipykernel/kernelbase.py\", line 543, in execute_request\n      self.do_execute(\n    File \"/usr/local/lib/python3.9/dist-packages/tornado/gen.py\", line 234, in wrapper\n      yielded = ctx_run(next, result)\n    File \"/usr/local/lib/python3.9/dist-packages/ipykernel/ipkernel.py\", line 306, in do_execute\n      res = shell.run_cell(code, store_history=store_history, silent=silent)\n    File \"/usr/local/lib/python3.9/dist-packages/ipykernel/zmqshell.py\", line 536, in run_cell\n      return super(ZMQInteractiveShell, self).run_cell(*args, **kwargs)\n    File \"/usr/local/lib/python3.9/dist-packages/IPython/core/interactiveshell.py\", line 2854, in run_cell\n      result = self._run_cell(\n    File \"/usr/local/lib/python3.9/dist-packages/IPython/core/interactiveshell.py\", line 2881, in _run_cell\n      return runner(coro)\n    File \"/usr/local/lib/python3.9/dist-packages/IPython/core/async_helpers.py\", line 68, in _pseudo_sync_runner\n      coro.send(None)\n    File \"/usr/local/lib/python3.9/dist-packages/IPython/core/interactiveshell.py\", line 3057, in run_cell_async\n      has_raised = await self.run_ast_nodes(code_ast.body, cell_name,\n    File \"/usr/local/lib/python3.9/dist-packages/IPython/core/interactiveshell.py\", line 3249, in run_ast_nodes\n      if (await self.run_code(code, result,  async_=asy)):\n    File \"/usr/local/lib/python3.9/dist-packages/IPython/core/interactiveshell.py\", line 3326, in run_code\n      exec(code_obj, self.user_global_ns, self.user_ns)\n    File \"<ipython-input-40-d4244361d2d5>\", line 6, in <module>\n      history = model.fit(X_train, y_train, validation_data=(y, y_pred), epochs=10)\n    File \"/usr/local/lib/python3.9/dist-packages/keras/utils/traceback_utils.py\", line 65, in error_handler\n      return fn(*args, **kwargs)\n    File \"/usr/local/lib/python3.9/dist-packages/keras/engine/training.py\", line 1694, in fit\n      val_logs = self.evaluate(\n    File \"/usr/local/lib/python3.9/dist-packages/keras/utils/traceback_utils.py\", line 65, in error_handler\n      return fn(*args, **kwargs)\n    File \"/usr/local/lib/python3.9/dist-packages/keras/engine/training.py\", line 2040, in evaluate\n      tmp_logs = self.test_function(iterator)\n    File \"/usr/local/lib/python3.9/dist-packages/keras/engine/training.py\", line 1820, in test_function\n      return step_function(self, iterator)\n    File \"/usr/local/lib/python3.9/dist-packages/keras/engine/training.py\", line 1804, in step_function\n      outputs = model.distribute_strategy.run(run_step, args=(data,))\n    File \"/usr/local/lib/python3.9/dist-packages/keras/engine/training.py\", line 1792, in run_step\n      outputs = model.test_step(data)\n    File \"/usr/local/lib/python3.9/dist-packages/keras/engine/training.py\", line 1756, in test_step\n      y_pred = self(x, training=False)\n    File \"/usr/local/lib/python3.9/dist-packages/keras/utils/traceback_utils.py\", line 65, in error_handler\n      return fn(*args, **kwargs)\n    File \"/usr/local/lib/python3.9/dist-packages/keras/engine/training.py\", line 561, in __call__\n      return super().__call__(*args, **kwargs)\n    File \"/usr/local/lib/python3.9/dist-packages/keras/utils/traceback_utils.py\", line 65, in error_handler\n      return fn(*args, **kwargs)\n    File \"/usr/local/lib/python3.9/dist-packages/keras/engine/base_layer.py\", line 1132, in __call__\n      outputs = call_fn(inputs, *args, **kwargs)\n    File \"/usr/local/lib/python3.9/dist-packages/keras/utils/traceback_utils.py\", line 96, in error_handler\n      return fn(*args, **kwargs)\n    File \"/usr/local/lib/python3.9/dist-packages/keras/engine/sequential.py\", line 413, in call\n      return super().call(inputs, training=training, mask=mask)\n    File \"/usr/local/lib/python3.9/dist-packages/keras/engine/functional.py\", line 511, in call\n      return self._run_internal_graph(inputs, training=training, mask=mask)\n    File \"/usr/local/lib/python3.9/dist-packages/keras/engine/functional.py\", line 668, in _run_internal_graph\n      outputs = node.layer(*args, **kwargs)\n    File \"/usr/local/lib/python3.9/dist-packages/keras/utils/traceback_utils.py\", line 65, in error_handler\n      return fn(*args, **kwargs)\n    File \"/usr/local/lib/python3.9/dist-packages/keras/engine/base_layer.py\", line 1132, in __call__\n      outputs = call_fn(inputs, *args, **kwargs)\n    File \"/usr/local/lib/python3.9/dist-packages/keras/utils/traceback_utils.py\", line 96, in error_handler\n      return fn(*args, **kwargs)\n    File \"/usr/local/lib/python3.9/dist-packages/keras/layers/core/dense.py\", line 252, in call\n      outputs = tf.nn.bias_add(outputs, self.bias)\nNode: 'sequential_1/dense/BiasAdd'\nIn[0] and In[1] has different ndims: [32] vs. [2,2]\n\t [[{{node sequential_1/dense/BiasAdd}}]] [Op:__inference_test_function_1658997]"
          ]
        }
      ]
    },
    {
      "cell_type": "code",
      "source": [],
      "metadata": {
        "id": "aRFS6Vp869-I"
      },
      "execution_count": null,
      "outputs": []
    }
  ]
}